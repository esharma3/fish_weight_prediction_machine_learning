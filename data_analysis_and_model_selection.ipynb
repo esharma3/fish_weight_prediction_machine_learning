{
 "cells": [
  {
   "cell_type": "markdown",
   "metadata": {},
   "source": [
    "# Fish Weight Prediction - A regression implementation"
   ]
  },
  {
   "cell_type": "code",
   "execution_count": 1,
   "metadata": {},
   "outputs": [
    {
     "data": {
      "application/javascript": [
       "\n",
       "            setTimeout(function() {\n",
       "                var nbb_cell_id = 1;\n",
       "                var nbb_unformatted_code = \"# importing dependencies here\\nimport pandas as pd\\nimport matplotlib.pyplot as plt\\nimport numpy as np\\nimport seaborn as sns\\n\\n# scikit Learn\\nfrom sklearn.model_selection import train_test_split\\nfrom sklearn.compose import ColumnTransformer, make_column_transformer\\nfrom sklearn.pipeline import make_pipeline\\nfrom sklearn.preprocessing import StandardScaler\\nfrom sklearn.preprocessing import OneHotEncoder\\nfrom sklearn.linear_model import LinearRegression\\nfrom sklearn.metrics import mean_squared_error\\nfrom sklearn.metrics import r2_score\\nfrom sklearn.model_selection import cross_val_score\\nfrom sklearn.linear_model import Lasso\\nfrom sklearn.model_selection import GridSearchCV\\nfrom sklearn.ensemble import RandomForestRegressor\\n\\n# plot\\nfrom scipy import stats\\n\\n# saving the model\\nfrom joblib import dump\\n\\n# formatting\\n%load_ext nb_black\";\n",
       "                var nbb_formatted_code = \"# importing dependencies here\\nimport pandas as pd\\nimport matplotlib.pyplot as plt\\nimport numpy as np\\nimport seaborn as sns\\n\\n# scikit Learn\\nfrom sklearn.model_selection import train_test_split\\nfrom sklearn.compose import ColumnTransformer, make_column_transformer\\nfrom sklearn.pipeline import make_pipeline\\nfrom sklearn.preprocessing import StandardScaler\\nfrom sklearn.preprocessing import OneHotEncoder\\nfrom sklearn.linear_model import LinearRegression\\nfrom sklearn.metrics import mean_squared_error\\nfrom sklearn.metrics import r2_score\\nfrom sklearn.model_selection import cross_val_score\\nfrom sklearn.linear_model import Lasso\\nfrom sklearn.model_selection import GridSearchCV\\nfrom sklearn.ensemble import RandomForestRegressor\\n\\n# plot\\nfrom scipy import stats\\n\\n# saving the model\\nfrom joblib import dump\\n\\n# formatting\\n%load_ext nb_black\";\n",
       "                var nbb_cells = Jupyter.notebook.get_cells();\n",
       "                for (var i = 0; i < nbb_cells.length; ++i) {\n",
       "                    if (nbb_cells[i].input_prompt_number == nbb_cell_id) {\n",
       "                        if (nbb_cells[i].get_text() == nbb_unformatted_code) {\n",
       "                             nbb_cells[i].set_text(nbb_formatted_code);\n",
       "                        }\n",
       "                        break;\n",
       "                    }\n",
       "                }\n",
       "            }, 500);\n",
       "            "
      ],
      "text/plain": [
       "<IPython.core.display.Javascript object>"
      ]
     },
     "metadata": {},
     "output_type": "display_data"
    }
   ],
   "source": [
    "# importing dependencies here\n",
    "import pandas as pd\n",
    "import matplotlib.pyplot as plt\n",
    "import numpy as np\n",
    "import seaborn as sns\n",
    "\n",
    "# scikit Learn\n",
    "from sklearn.model_selection import train_test_split\n",
    "from sklearn.compose import ColumnTransformer, make_column_transformer\n",
    "from sklearn.pipeline import make_pipeline\n",
    "from sklearn.preprocessing import StandardScaler\n",
    "from sklearn.preprocessing import OneHotEncoder\n",
    "from sklearn.linear_model import LinearRegression\n",
    "from sklearn.metrics import mean_squared_error\n",
    "from sklearn.metrics import r2_score\n",
    "from sklearn.model_selection import cross_val_score\n",
    "from sklearn.linear_model import Lasso\n",
    "from sklearn.model_selection import GridSearchCV\n",
    "from sklearn.ensemble import RandomForestRegressor\n",
    "\n",
    "# plot\n",
    "from scipy import stats\n",
    "\n",
    "# saving the model\n",
    "from joblib import dump\n",
    "\n",
    "# formatting\n",
    "%load_ext nb_black"
   ]
  },
  {
   "cell_type": "code",
   "execution_count": 2,
   "metadata": {},
   "outputs": [
    {
     "data": {
      "application/javascript": [
       "\n",
       "            setTimeout(function() {\n",
       "                var nbb_cell_id = 2;\n",
       "                var nbb_unformatted_code = \"# reading the input file\\nfish_data = pd.read_csv(\\\"fish_participant.csv\\\")\";\n",
       "                var nbb_formatted_code = \"# reading the input file\\nfish_data = pd.read_csv(\\\"fish_participant.csv\\\")\";\n",
       "                var nbb_cells = Jupyter.notebook.get_cells();\n",
       "                for (var i = 0; i < nbb_cells.length; ++i) {\n",
       "                    if (nbb_cells[i].input_prompt_number == nbb_cell_id) {\n",
       "                        if (nbb_cells[i].get_text() == nbb_unformatted_code) {\n",
       "                             nbb_cells[i].set_text(nbb_formatted_code);\n",
       "                        }\n",
       "                        break;\n",
       "                    }\n",
       "                }\n",
       "            }, 500);\n",
       "            "
      ],
      "text/plain": [
       "<IPython.core.display.Javascript object>"
      ]
     },
     "metadata": {},
     "output_type": "display_data"
    }
   ],
   "source": [
    "# reading the input file\n",
    "fish_data = pd.read_csv(\"fish_participant.csv\")"
   ]
  },
  {
   "cell_type": "code",
   "execution_count": 3,
   "metadata": {},
   "outputs": [
    {
     "data": {
      "text/html": [
       "<div>\n",
       "<style scoped>\n",
       "    .dataframe tbody tr th:only-of-type {\n",
       "        vertical-align: middle;\n",
       "    }\n",
       "\n",
       "    .dataframe tbody tr th {\n",
       "        vertical-align: top;\n",
       "    }\n",
       "\n",
       "    .dataframe thead th {\n",
       "        text-align: right;\n",
       "    }\n",
       "</style>\n",
       "<table border=\"1\" class=\"dataframe\">\n",
       "  <thead>\n",
       "    <tr style=\"text-align: right;\">\n",
       "      <th></th>\n",
       "      <th>Species</th>\n",
       "      <th>Weight</th>\n",
       "      <th>Length1</th>\n",
       "      <th>Length2</th>\n",
       "      <th>Length3</th>\n",
       "      <th>Height</th>\n",
       "      <th>Width</th>\n",
       "    </tr>\n",
       "  </thead>\n",
       "  <tbody>\n",
       "    <tr>\n",
       "      <th>0</th>\n",
       "      <td>Bream</td>\n",
       "      <td>430.0</td>\n",
       "      <td>26.5</td>\n",
       "      <td>29.0</td>\n",
       "      <td>34.0</td>\n",
       "      <td>12.4440</td>\n",
       "      <td>5.1340</td>\n",
       "    </tr>\n",
       "    <tr>\n",
       "      <th>1</th>\n",
       "      <td>Perch</td>\n",
       "      <td>110.0</td>\n",
       "      <td>20.0</td>\n",
       "      <td>22.0</td>\n",
       "      <td>23.5</td>\n",
       "      <td>5.5225</td>\n",
       "      <td>3.9950</td>\n",
       "    </tr>\n",
       "    <tr>\n",
       "      <th>2</th>\n",
       "      <td>Roach</td>\n",
       "      <td>160.0</td>\n",
       "      <td>20.5</td>\n",
       "      <td>22.5</td>\n",
       "      <td>25.3</td>\n",
       "      <td>7.0334</td>\n",
       "      <td>3.8203</td>\n",
       "    </tr>\n",
       "    <tr>\n",
       "      <th>3</th>\n",
       "      <td>Parkki</td>\n",
       "      <td>60.0</td>\n",
       "      <td>14.3</td>\n",
       "      <td>15.5</td>\n",
       "      <td>17.4</td>\n",
       "      <td>6.5772</td>\n",
       "      <td>2.3142</td>\n",
       "    </tr>\n",
       "    <tr>\n",
       "      <th>4</th>\n",
       "      <td>Bream</td>\n",
       "      <td>700.0</td>\n",
       "      <td>30.4</td>\n",
       "      <td>33.0</td>\n",
       "      <td>38.3</td>\n",
       "      <td>14.8604</td>\n",
       "      <td>5.2854</td>\n",
       "    </tr>\n",
       "  </tbody>\n",
       "</table>\n",
       "</div>"
      ],
      "text/plain": [
       "  Species  Weight  Length1  Length2  Length3   Height   Width\n",
       "0   Bream   430.0     26.5     29.0     34.0  12.4440  5.1340\n",
       "1   Perch   110.0     20.0     22.0     23.5   5.5225  3.9950\n",
       "2   Roach   160.0     20.5     22.5     25.3   7.0334  3.8203\n",
       "3  Parkki    60.0     14.3     15.5     17.4   6.5772  2.3142\n",
       "4   Bream   700.0     30.4     33.0     38.3  14.8604  5.2854"
      ]
     },
     "execution_count": 3,
     "metadata": {},
     "output_type": "execute_result"
    },
    {
     "data": {
      "application/javascript": [
       "\n",
       "            setTimeout(function() {\n",
       "                var nbb_cell_id = 3;\n",
       "                var nbb_unformatted_code = \"# checking first 5 records\\nfish_data.head()\";\n",
       "                var nbb_formatted_code = \"# checking first 5 records\\nfish_data.head()\";\n",
       "                var nbb_cells = Jupyter.notebook.get_cells();\n",
       "                for (var i = 0; i < nbb_cells.length; ++i) {\n",
       "                    if (nbb_cells[i].input_prompt_number == nbb_cell_id) {\n",
       "                        if (nbb_cells[i].get_text() == nbb_unformatted_code) {\n",
       "                             nbb_cells[i].set_text(nbb_formatted_code);\n",
       "                        }\n",
       "                        break;\n",
       "                    }\n",
       "                }\n",
       "            }, 500);\n",
       "            "
      ],
      "text/plain": [
       "<IPython.core.display.Javascript object>"
      ]
     },
     "metadata": {},
     "output_type": "display_data"
    }
   ],
   "source": [
    "# checking first 5 records\n",
    "fish_data.head()"
   ]
  },
  {
   "cell_type": "markdown",
   "metadata": {},
   "source": [
    "### Exploratory Data Analysis"
   ]
  },
  {
   "cell_type": "code",
   "execution_count": 4,
   "metadata": {},
   "outputs": [
    {
     "data": {
      "text/plain": [
       "Species     object\n",
       "Weight     float64\n",
       "Length1    float64\n",
       "Length2    float64\n",
       "Length3    float64\n",
       "Height     float64\n",
       "Width      float64\n",
       "dtype: object"
      ]
     },
     "execution_count": 4,
     "metadata": {},
     "output_type": "execute_result"
    },
    {
     "data": {
      "application/javascript": [
       "\n",
       "            setTimeout(function() {\n",
       "                var nbb_cell_id = 4;\n",
       "                var nbb_unformatted_code = \"# checking the data types\\nfish_data.dtypes\";\n",
       "                var nbb_formatted_code = \"# checking the data types\\nfish_data.dtypes\";\n",
       "                var nbb_cells = Jupyter.notebook.get_cells();\n",
       "                for (var i = 0; i < nbb_cells.length; ++i) {\n",
       "                    if (nbb_cells[i].input_prompt_number == nbb_cell_id) {\n",
       "                        if (nbb_cells[i].get_text() == nbb_unformatted_code) {\n",
       "                             nbb_cells[i].set_text(nbb_formatted_code);\n",
       "                        }\n",
       "                        break;\n",
       "                    }\n",
       "                }\n",
       "            }, 500);\n",
       "            "
      ],
      "text/plain": [
       "<IPython.core.display.Javascript object>"
      ]
     },
     "metadata": {},
     "output_type": "display_data"
    }
   ],
   "source": [
    "# checking the data types\n",
    "fish_data.dtypes"
   ]
  },
  {
   "cell_type": "markdown",
   "metadata": {},
   "source": [
    "The data types look okay."
   ]
  },
  {
   "cell_type": "code",
   "execution_count": 5,
   "metadata": {},
   "outputs": [
    {
     "data": {
      "text/plain": [
       "Species    0\n",
       "Weight     0\n",
       "Length1    0\n",
       "Length2    0\n",
       "Length3    0\n",
       "Height     0\n",
       "Width      0\n",
       "dtype: int64"
      ]
     },
     "execution_count": 5,
     "metadata": {},
     "output_type": "execute_result"
    },
    {
     "data": {
      "application/javascript": [
       "\n",
       "            setTimeout(function() {\n",
       "                var nbb_cell_id = 5;\n",
       "                var nbb_unformatted_code = \"# checking for missing values\\nfish_data.isnull().sum()\";\n",
       "                var nbb_formatted_code = \"# checking for missing values\\nfish_data.isnull().sum()\";\n",
       "                var nbb_cells = Jupyter.notebook.get_cells();\n",
       "                for (var i = 0; i < nbb_cells.length; ++i) {\n",
       "                    if (nbb_cells[i].input_prompt_number == nbb_cell_id) {\n",
       "                        if (nbb_cells[i].get_text() == nbb_unformatted_code) {\n",
       "                             nbb_cells[i].set_text(nbb_formatted_code);\n",
       "                        }\n",
       "                        break;\n",
       "                    }\n",
       "                }\n",
       "            }, 500);\n",
       "            "
      ],
      "text/plain": [
       "<IPython.core.display.Javascript object>"
      ]
     },
     "metadata": {},
     "output_type": "display_data"
    }
   ],
   "source": [
    "# checking for missing values\n",
    "fish_data.isnull().sum()"
   ]
  },
  {
   "cell_type": "markdown",
   "metadata": {},
   "source": [
    "There is no missing data present."
   ]
  },
  {
   "cell_type": "code",
   "execution_count": 6,
   "metadata": {},
   "outputs": [
    {
     "data": {
      "text/html": [
       "<div>\n",
       "<style scoped>\n",
       "    .dataframe tbody tr th:only-of-type {\n",
       "        vertical-align: middle;\n",
       "    }\n",
       "\n",
       "    .dataframe tbody tr th {\n",
       "        vertical-align: top;\n",
       "    }\n",
       "\n",
       "    .dataframe thead th {\n",
       "        text-align: right;\n",
       "    }\n",
       "</style>\n",
       "<table border=\"1\" class=\"dataframe\">\n",
       "  <thead>\n",
       "    <tr style=\"text-align: right;\">\n",
       "      <th></th>\n",
       "      <th>Weight</th>\n",
       "      <th>Length1</th>\n",
       "      <th>Length2</th>\n",
       "      <th>Length3</th>\n",
       "      <th>Height</th>\n",
       "      <th>Width</th>\n",
       "    </tr>\n",
       "  </thead>\n",
       "  <tbody>\n",
       "    <tr>\n",
       "      <th>count</th>\n",
       "      <td>111.000000</td>\n",
       "      <td>111.000000</td>\n",
       "      <td>111.000000</td>\n",
       "      <td>111.000000</td>\n",
       "      <td>111.000000</td>\n",
       "      <td>111.000000</td>\n",
       "    </tr>\n",
       "    <tr>\n",
       "      <th>mean</th>\n",
       "      <td>401.676577</td>\n",
       "      <td>26.447748</td>\n",
       "      <td>28.615315</td>\n",
       "      <td>31.422523</td>\n",
       "      <td>9.015701</td>\n",
       "      <td>4.480407</td>\n",
       "    </tr>\n",
       "    <tr>\n",
       "      <th>std</th>\n",
       "      <td>338.510755</td>\n",
       "      <td>9.795155</td>\n",
       "      <td>10.498781</td>\n",
       "      <td>11.306311</td>\n",
       "      <td>4.225369</td>\n",
       "      <td>1.696240</td>\n",
       "    </tr>\n",
       "    <tr>\n",
       "      <th>min</th>\n",
       "      <td>5.900000</td>\n",
       "      <td>7.500000</td>\n",
       "      <td>8.400000</td>\n",
       "      <td>8.800000</td>\n",
       "      <td>1.738800</td>\n",
       "      <td>1.047600</td>\n",
       "    </tr>\n",
       "    <tr>\n",
       "      <th>25%</th>\n",
       "      <td>142.500000</td>\n",
       "      <td>20.000000</td>\n",
       "      <td>22.000000</td>\n",
       "      <td>23.500000</td>\n",
       "      <td>6.138850</td>\n",
       "      <td>3.551400</td>\n",
       "    </tr>\n",
       "    <tr>\n",
       "      <th>50%</th>\n",
       "      <td>300.000000</td>\n",
       "      <td>25.400000</td>\n",
       "      <td>27.500000</td>\n",
       "      <td>30.100000</td>\n",
       "      <td>8.145400</td>\n",
       "      <td>4.335000</td>\n",
       "    </tr>\n",
       "    <tr>\n",
       "      <th>75%</th>\n",
       "      <td>682.500000</td>\n",
       "      <td>33.750000</td>\n",
       "      <td>36.250000</td>\n",
       "      <td>40.150000</td>\n",
       "      <td>12.143400</td>\n",
       "      <td>5.658300</td>\n",
       "    </tr>\n",
       "    <tr>\n",
       "      <th>max</th>\n",
       "      <td>1550.000000</td>\n",
       "      <td>56.000000</td>\n",
       "      <td>60.000000</td>\n",
       "      <td>64.000000</td>\n",
       "      <td>18.957000</td>\n",
       "      <td>8.142000</td>\n",
       "    </tr>\n",
       "  </tbody>\n",
       "</table>\n",
       "</div>"
      ],
      "text/plain": [
       "            Weight     Length1     Length2     Length3      Height       Width\n",
       "count   111.000000  111.000000  111.000000  111.000000  111.000000  111.000000\n",
       "mean    401.676577   26.447748   28.615315   31.422523    9.015701    4.480407\n",
       "std     338.510755    9.795155   10.498781   11.306311    4.225369    1.696240\n",
       "min       5.900000    7.500000    8.400000    8.800000    1.738800    1.047600\n",
       "25%     142.500000   20.000000   22.000000   23.500000    6.138850    3.551400\n",
       "50%     300.000000   25.400000   27.500000   30.100000    8.145400    4.335000\n",
       "75%     682.500000   33.750000   36.250000   40.150000   12.143400    5.658300\n",
       "max    1550.000000   56.000000   60.000000   64.000000   18.957000    8.142000"
      ]
     },
     "execution_count": 6,
     "metadata": {},
     "output_type": "execute_result"
    },
    {
     "data": {
      "application/javascript": [
       "\n",
       "            setTimeout(function() {\n",
       "                var nbb_cell_id = 6;\n",
       "                var nbb_unformatted_code = \"fish_data.describe()\";\n",
       "                var nbb_formatted_code = \"fish_data.describe()\";\n",
       "                var nbb_cells = Jupyter.notebook.get_cells();\n",
       "                for (var i = 0; i < nbb_cells.length; ++i) {\n",
       "                    if (nbb_cells[i].input_prompt_number == nbb_cell_id) {\n",
       "                        if (nbb_cells[i].get_text() == nbb_unformatted_code) {\n",
       "                             nbb_cells[i].set_text(nbb_formatted_code);\n",
       "                        }\n",
       "                        break;\n",
       "                    }\n",
       "                }\n",
       "            }, 500);\n",
       "            "
      ],
      "text/plain": [
       "<IPython.core.display.Javascript object>"
      ]
     },
     "metadata": {},
     "output_type": "display_data"
    }
   ],
   "source": [
    "fish_data.describe()"
   ]
  },
  {
   "cell_type": "markdown",
   "metadata": {},
   "source": [
    "For the target variable \"Weight\", the difference between the min and max value semms to be significantly large. <br>\n",
    "There could be some outliers present possibly that I will handle later in this code."
   ]
  },
  {
   "cell_type": "code",
   "execution_count": 7,
   "metadata": {},
   "outputs": [
    {
     "data": {
      "text/html": [
       "<style  type=\"text/css\" >\n",
       "    #T_bcc7f28a_8791_11ea_94e5_380025f3998frow0_col0 {\n",
       "            background-color:  #ffffff;\n",
       "            color:  #000000;\n",
       "        }    #T_bcc7f28a_8791_11ea_94e5_380025f3998frow0_col1 {\n",
       "            background-color:  #369bbc;\n",
       "            color:  #000000;\n",
       "        }    #T_bcc7f28a_8791_11ea_94e5_380025f3998frow0_col2 {\n",
       "            background-color:  #369bbc;\n",
       "            color:  #000000;\n",
       "        }    #T_bcc7f28a_8791_11ea_94e5_380025f3998frow0_col3 {\n",
       "            background-color:  #188bb2;\n",
       "            color:  #000000;\n",
       "        }    #T_bcc7f28a_8791_11ea_94e5_380025f3998frow0_col4 {\n",
       "            background-color:  #000a4e;\n",
       "            color:  #f1f1f1;\n",
       "        }    #T_bcc7f28a_8791_11ea_94e5_380025f3998frow0_col5 {\n",
       "            background-color:  #004382;\n",
       "            color:  #f1f1f1;\n",
       "        }    #T_bcc7f28a_8791_11ea_94e5_380025f3998frow1_col0 {\n",
       "            background-color:  #006f9f;\n",
       "            color:  #f1f1f1;\n",
       "        }    #T_bcc7f28a_8791_11ea_94e5_380025f3998frow1_col1 {\n",
       "            background-color:  #ffffff;\n",
       "            color:  #000000;\n",
       "        }    #T_bcc7f28a_8791_11ea_94e5_380025f3998frow1_col2 {\n",
       "            background-color:  #ffffff;\n",
       "            color:  #000000;\n",
       "        }    #T_bcc7f28a_8791_11ea_94e5_380025f3998frow1_col3 {\n",
       "            background-color:  #eaf4f8;\n",
       "            color:  #000000;\n",
       "        }    #T_bcc7f28a_8791_11ea_94e5_380025f3998frow1_col4 {\n",
       "            background-color:  #008000;\n",
       "            color:  #f1f1f1;\n",
       "        }    #T_bcc7f28a_8791_11ea_94e5_380025f3998frow1_col5 {\n",
       "            background-color:  #000c5d;\n",
       "            color:  #f1f1f1;\n",
       "        }    #T_bcc7f28a_8791_11ea_94e5_380025f3998frow2_col0 {\n",
       "            background-color:  #0073a2;\n",
       "            color:  #f1f1f1;\n",
       "        }    #T_bcc7f28a_8791_11ea_94e5_380025f3998frow2_col1 {\n",
       "            background-color:  #ffffff;\n",
       "            color:  #000000;\n",
       "        }    #T_bcc7f28a_8791_11ea_94e5_380025f3998frow2_col2 {\n",
       "            background-color:  #ffffff;\n",
       "            color:  #000000;\n",
       "        }    #T_bcc7f28a_8791_11ea_94e5_380025f3998frow2_col3 {\n",
       "            background-color:  #f0f7fa;\n",
       "            color:  #000000;\n",
       "        }    #T_bcc7f28a_8791_11ea_94e5_380025f3998frow2_col4 {\n",
       "            background-color:  #00700a;\n",
       "            color:  #f1f1f1;\n",
       "        }    #T_bcc7f28a_8791_11ea_94e5_380025f3998frow2_col5 {\n",
       "            background-color:  #001865;\n",
       "            color:  #f1f1f1;\n",
       "        }    #T_bcc7f28a_8791_11ea_94e5_380025f3998frow3_col0 {\n",
       "            background-color:  #007ba7;\n",
       "            color:  #f1f1f1;\n",
       "        }    #T_bcc7f28a_8791_11ea_94e5_380025f3998frow3_col1 {\n",
       "            background-color:  #f0f7fa;\n",
       "            color:  #000000;\n",
       "        }    #T_bcc7f28a_8791_11ea_94e5_380025f3998frow3_col2 {\n",
       "            background-color:  #f3f9fb;\n",
       "            color:  #000000;\n",
       "        }    #T_bcc7f28a_8791_11ea_94e5_380025f3998frow3_col3 {\n",
       "            background-color:  #ffffff;\n",
       "            color:  #000000;\n",
       "        }    #T_bcc7f28a_8791_11ea_94e5_380025f3998frow3_col4 {\n",
       "            background-color:  #002f36;\n",
       "            color:  #f1f1f1;\n",
       "        }    #T_bcc7f28a_8791_11ea_94e5_380025f3998frow3_col5 {\n",
       "            background-color:  #001e69;\n",
       "            color:  #f1f1f1;\n",
       "        }    #T_bcc7f28a_8791_11ea_94e5_380025f3998frow4_col0 {\n",
       "            background-color:  #008000;\n",
       "            color:  #f1f1f1;\n",
       "        }    #T_bcc7f28a_8791_11ea_94e5_380025f3998frow4_col1 {\n",
       "            background-color:  #008000;\n",
       "            color:  #f1f1f1;\n",
       "        }    #T_bcc7f28a_8791_11ea_94e5_380025f3998frow4_col2 {\n",
       "            background-color:  #008000;\n",
       "            color:  #f1f1f1;\n",
       "        }    #T_bcc7f28a_8791_11ea_94e5_380025f3998frow4_col3 {\n",
       "            background-color:  #008000;\n",
       "            color:  #f1f1f1;\n",
       "        }    #T_bcc7f28a_8791_11ea_94e5_380025f3998frow4_col4 {\n",
       "            background-color:  #ffffff;\n",
       "            color:  #000000;\n",
       "        }    #T_bcc7f28a_8791_11ea_94e5_380025f3998frow4_col5 {\n",
       "            background-color:  #008000;\n",
       "            color:  #f1f1f1;\n",
       "        }    #T_bcc7f28a_8791_11ea_94e5_380025f3998frow5_col0 {\n",
       "            background-color:  #006397;\n",
       "            color:  #f1f1f1;\n",
       "        }    #T_bcc7f28a_8791_11ea_94e5_380025f3998frow5_col1 {\n",
       "            background-color:  #0075a3;\n",
       "            color:  #f1f1f1;\n",
       "        }    #T_bcc7f28a_8791_11ea_94e5_380025f3998frow5_col2 {\n",
       "            background-color:  #0075a3;\n",
       "            color:  #f1f1f1;\n",
       "        }    #T_bcc7f28a_8791_11ea_94e5_380025f3998frow5_col3 {\n",
       "            background-color:  #005b92;\n",
       "            color:  #f1f1f1;\n",
       "        }    #T_bcc7f28a_8791_11ea_94e5_380025f3998frow5_col4 {\n",
       "            background-color:  #00246d;\n",
       "            color:  #f1f1f1;\n",
       "        }    #T_bcc7f28a_8791_11ea_94e5_380025f3998frow5_col5 {\n",
       "            background-color:  #ffffff;\n",
       "            color:  #000000;\n",
       "        }</style><table id=\"T_bcc7f28a_8791_11ea_94e5_380025f3998f\" ><thead>    <tr>        <th class=\"blank level0\" ></th>        <th class=\"col_heading level0 col0\" >Weight</th>        <th class=\"col_heading level0 col1\" >Length1</th>        <th class=\"col_heading level0 col2\" >Length2</th>        <th class=\"col_heading level0 col3\" >Length3</th>        <th class=\"col_heading level0 col4\" >Height</th>        <th class=\"col_heading level0 col5\" >Width</th>    </tr></thead><tbody>\n",
       "                <tr>\n",
       "                        <th id=\"T_bcc7f28a_8791_11ea_94e5_380025f3998flevel0_row0\" class=\"row_heading level0 row0\" >Weight</th>\n",
       "                        <td id=\"T_bcc7f28a_8791_11ea_94e5_380025f3998frow0_col0\" class=\"data row0 col0\" >1.000000</td>\n",
       "                        <td id=\"T_bcc7f28a_8791_11ea_94e5_380025f3998frow0_col1\" class=\"data row0 col1\" >0.900963</td>\n",
       "                        <td id=\"T_bcc7f28a_8791_11ea_94e5_380025f3998frow0_col2\" class=\"data row0 col2\" >0.904090</td>\n",
       "                        <td id=\"T_bcc7f28a_8791_11ea_94e5_380025f3998frow0_col3\" class=\"data row0 col3\" >0.909553</td>\n",
       "                        <td id=\"T_bcc7f28a_8791_11ea_94e5_380025f3998frow0_col4\" class=\"data row0 col4\" >0.738316</td>\n",
       "                        <td id=\"T_bcc7f28a_8791_11ea_94e5_380025f3998frow0_col5\" class=\"data row0 col5\" >0.893379</td>\n",
       "            </tr>\n",
       "            <tr>\n",
       "                        <th id=\"T_bcc7f28a_8791_11ea_94e5_380025f3998flevel0_row1\" class=\"row_heading level0 row1\" >Length1</th>\n",
       "                        <td id=\"T_bcc7f28a_8791_11ea_94e5_380025f3998frow1_col0\" class=\"data row1 col0\" >0.900963</td>\n",
       "                        <td id=\"T_bcc7f28a_8791_11ea_94e5_380025f3998frow1_col1\" class=\"data row1 col1\" >1.000000</td>\n",
       "                        <td id=\"T_bcc7f28a_8791_11ea_94e5_380025f3998frow1_col2\" class=\"data row1 col2\" >0.999468</td>\n",
       "                        <td id=\"T_bcc7f28a_8791_11ea_94e5_380025f3998frow1_col3\" class=\"data row1 col3\" >0.991363</td>\n",
       "                        <td id=\"T_bcc7f28a_8791_11ea_94e5_380025f3998frow1_col4\" class=\"data row1 col4\" >0.621648</td>\n",
       "                        <td id=\"T_bcc7f28a_8791_11ea_94e5_380025f3998frow1_col5\" class=\"data row1 col5\" >0.862612</td>\n",
       "            </tr>\n",
       "            <tr>\n",
       "                        <th id=\"T_bcc7f28a_8791_11ea_94e5_380025f3998flevel0_row2\" class=\"row_heading level0 row2\" >Length2</th>\n",
       "                        <td id=\"T_bcc7f28a_8791_11ea_94e5_380025f3998frow2_col0\" class=\"data row2 col0\" >0.904090</td>\n",
       "                        <td id=\"T_bcc7f28a_8791_11ea_94e5_380025f3998frow2_col1\" class=\"data row2 col1\" >0.999468</td>\n",
       "                        <td id=\"T_bcc7f28a_8791_11ea_94e5_380025f3998frow2_col2\" class=\"data row2 col2\" >1.000000</td>\n",
       "                        <td id=\"T_bcc7f28a_8791_11ea_94e5_380025f3998frow2_col3\" class=\"data row2 col3\" >0.993695</td>\n",
       "                        <td id=\"T_bcc7f28a_8791_11ea_94e5_380025f3998frow2_col4\" class=\"data row2 col4\" >0.637353</td>\n",
       "                        <td id=\"T_bcc7f28a_8791_11ea_94e5_380025f3998frow2_col5\" class=\"data row2 col5\" >0.869217</td>\n",
       "            </tr>\n",
       "            <tr>\n",
       "                        <th id=\"T_bcc7f28a_8791_11ea_94e5_380025f3998flevel0_row3\" class=\"row_heading level0 row3\" >Length3</th>\n",
       "                        <td id=\"T_bcc7f28a_8791_11ea_94e5_380025f3998frow3_col0\" class=\"data row3 col0\" >0.909553</td>\n",
       "                        <td id=\"T_bcc7f28a_8791_11ea_94e5_380025f3998frow3_col1\" class=\"data row3 col1\" >0.991363</td>\n",
       "                        <td id=\"T_bcc7f28a_8791_11ea_94e5_380025f3998frow3_col2\" class=\"data row3 col2\" >0.993695</td>\n",
       "                        <td id=\"T_bcc7f28a_8791_11ea_94e5_380025f3998frow3_col3\" class=\"data row3 col3\" >1.000000</td>\n",
       "                        <td id=\"T_bcc7f28a_8791_11ea_94e5_380025f3998frow3_col4\" class=\"data row3 col4\" >0.702567</td>\n",
       "                        <td id=\"T_bcc7f28a_8791_11ea_94e5_380025f3998frow3_col5\" class=\"data row3 col5\" >0.872672</td>\n",
       "            </tr>\n",
       "            <tr>\n",
       "                        <th id=\"T_bcc7f28a_8791_11ea_94e5_380025f3998flevel0_row4\" class=\"row_heading level0 row4\" >Height</th>\n",
       "                        <td id=\"T_bcc7f28a_8791_11ea_94e5_380025f3998frow4_col0\" class=\"data row4 col0\" >0.738316</td>\n",
       "                        <td id=\"T_bcc7f28a_8791_11ea_94e5_380025f3998frow4_col1\" class=\"data row4 col1\" >0.621648</td>\n",
       "                        <td id=\"T_bcc7f28a_8791_11ea_94e5_380025f3998frow4_col2\" class=\"data row4 col2\" >0.637353</td>\n",
       "                        <td id=\"T_bcc7f28a_8791_11ea_94e5_380025f3998frow4_col3\" class=\"data row4 col3\" >0.702567</td>\n",
       "                        <td id=\"T_bcc7f28a_8791_11ea_94e5_380025f3998frow4_col4\" class=\"data row4 col4\" >1.000000</td>\n",
       "                        <td id=\"T_bcc7f28a_8791_11ea_94e5_380025f3998frow4_col5\" class=\"data row4 col5\" >0.782936</td>\n",
       "            </tr>\n",
       "            <tr>\n",
       "                        <th id=\"T_bcc7f28a_8791_11ea_94e5_380025f3998flevel0_row5\" class=\"row_heading level0 row5\" >Width</th>\n",
       "                        <td id=\"T_bcc7f28a_8791_11ea_94e5_380025f3998frow5_col0\" class=\"data row5 col0\" >0.893379</td>\n",
       "                        <td id=\"T_bcc7f28a_8791_11ea_94e5_380025f3998frow5_col1\" class=\"data row5 col1\" >0.862612</td>\n",
       "                        <td id=\"T_bcc7f28a_8791_11ea_94e5_380025f3998frow5_col2\" class=\"data row5 col2\" >0.869217</td>\n",
       "                        <td id=\"T_bcc7f28a_8791_11ea_94e5_380025f3998frow5_col3\" class=\"data row5 col3\" >0.872672</td>\n",
       "                        <td id=\"T_bcc7f28a_8791_11ea_94e5_380025f3998frow5_col4\" class=\"data row5 col4\" >0.782936</td>\n",
       "                        <td id=\"T_bcc7f28a_8791_11ea_94e5_380025f3998frow5_col5\" class=\"data row5 col5\" >1.000000</td>\n",
       "            </tr>\n",
       "    </tbody></table>"
      ],
      "text/plain": [
       "<pandas.io.formats.style.Styler at 0x23388799748>"
      ]
     },
     "execution_count": 7,
     "metadata": {},
     "output_type": "execute_result"
    },
    {
     "data": {
      "application/javascript": [
       "\n",
       "            setTimeout(function() {\n",
       "                var nbb_cell_id = 7;\n",
       "                var nbb_unformatted_code = \"# checking for correlations\\ncorr = fish_data.corr()\\ncorr.style.background_gradient(cmap=\\\"ocean\\\")\";\n",
       "                var nbb_formatted_code = \"# checking for correlations\\ncorr = fish_data.corr()\\ncorr.style.background_gradient(cmap=\\\"ocean\\\")\";\n",
       "                var nbb_cells = Jupyter.notebook.get_cells();\n",
       "                for (var i = 0; i < nbb_cells.length; ++i) {\n",
       "                    if (nbb_cells[i].input_prompt_number == nbb_cell_id) {\n",
       "                        if (nbb_cells[i].get_text() == nbb_unformatted_code) {\n",
       "                             nbb_cells[i].set_text(nbb_formatted_code);\n",
       "                        }\n",
       "                        break;\n",
       "                    }\n",
       "                }\n",
       "            }, 500);\n",
       "            "
      ],
      "text/plain": [
       "<IPython.core.display.Javascript object>"
      ]
     },
     "metadata": {},
     "output_type": "display_data"
    }
   ],
   "source": [
    "# checking for correlations\n",
    "corr = fish_data.corr()\n",
    "corr.style.background_gradient(cmap=\"ocean\")"
   ]
  },
  {
   "cell_type": "markdown",
   "metadata": {},
   "source": [
    "All the features are showing strong correlation with the target vaibale weight.<br>\n",
    "The 3 Length variables are showing collinearity. I will handle this later in this code."
   ]
  },
  {
   "cell_type": "code",
   "execution_count": 8,
   "metadata": {},
   "outputs": [
    {
     "data": {
      "image/png": "[encoded data removed]",
      "text/plain": [
       "<Figure size 432x288 with 1 Axes>"
      ]
     },
     "metadata": {
      "needs_background": "light"
     },
     "output_type": "display_data"
    },
    {
     "data": {
      "image/png": "[encoded data removed]",
      "text/plain": [
       "<Figure size 432x288 with 1 Axes>"
      ]
     },
     "metadata": {
      "needs_background": "light"
     },
     "output_type": "display_data"
    },
    {
     "data": {
      "image/png": "[encoded data removed]",
      "text/plain": [
       "<Figure size 432x288 with 1 Axes>"
      ]
     },
     "metadata": {
      "needs_background": "light"
     },
     "output_type": "display_data"
    },
    {
     "data": {
      "image/png": "[encoded data removed]",
      "text/plain": [
       "<Figure size 432x288 with 1 Axes>"
      ]
     },
     "metadata": {
      "needs_background": "light"
     },
     "output_type": "display_data"
    },
    {
     "data": {
      "image/png": "[encoded data removed]",
      "text/plain": [
       "<Figure size 432x288 with 1 Axes>"
      ]
     },
     "metadata": {
      "needs_background": "light"
     },
     "output_type": "display_data"
    },
    {
     "data": {
      "application/javascript": [
       "\n",
       "            setTimeout(function() {\n",
       "                var nbb_cell_id = 8;\n",
       "                var nbb_unformatted_code = \"# checking for linear relationship between features and the target variable\\n\\nnumerical = [\\\"Length1\\\", \\\"Length2\\\", \\\"Length3\\\", \\\"Height\\\", \\\"Width\\\"]\\n\\nfor feature in numerical:\\n    plt.subplot(1, 2, 1)\\n    plt.scatter(x=fish_data[feature], y=fish_data[\\\"Weight\\\"])\\n    plt.xlabel(feature)\\n    plt.ylabel(\\\"weight\\\")\\n    plt.show()\";\n",
       "                var nbb_formatted_code = \"# checking for linear relationship between features and the target variable\\n\\nnumerical = [\\\"Length1\\\", \\\"Length2\\\", \\\"Length3\\\", \\\"Height\\\", \\\"Width\\\"]\\n\\nfor feature in numerical:\\n    plt.subplot(1, 2, 1)\\n    plt.scatter(x=fish_data[feature], y=fish_data[\\\"Weight\\\"])\\n    plt.xlabel(feature)\\n    plt.ylabel(\\\"weight\\\")\\n    plt.show()\";\n",
       "                var nbb_cells = Jupyter.notebook.get_cells();\n",
       "                for (var i = 0; i < nbb_cells.length; ++i) {\n",
       "                    if (nbb_cells[i].input_prompt_number == nbb_cell_id) {\n",
       "                        if (nbb_cells[i].get_text() == nbb_unformatted_code) {\n",
       "                             nbb_cells[i].set_text(nbb_formatted_code);\n",
       "                        }\n",
       "                        break;\n",
       "                    }\n",
       "                }\n",
       "            }, 500);\n",
       "            "
      ],
      "text/plain": [
       "<IPython.core.display.Javascript object>"
      ]
     },
     "metadata": {},
     "output_type": "display_data"
    }
   ],
   "source": [
    "# checking for linear relationship between features and the target variable\n",
    "\n",
    "numerical = [\"Length1\", \"Length2\", \"Length3\", \"Height\", \"Width\"]\n",
    "\n",
    "for feature in numerical:\n",
    "    plt.subplot(1, 2, 1)\n",
    "    plt.scatter(x=fish_data[feature], y=fish_data[\"Weight\"])\n",
    "    plt.xlabel(feature)\n",
    "    plt.ylabel(\"weight\")\n",
    "    plt.show()"
   ]
  },
  {
   "cell_type": "markdown",
   "metadata": {},
   "source": [
    "The relationship between the features and the target variable is not linear. I will be fixing it later in this code."
   ]
  },
  {
   "cell_type": "code",
   "execution_count": 9,
   "metadata": {},
   "outputs": [
    {
     "data": {
      "image/png": "[encoded data removed]",
      "text/plain": [
       "<Figure size 432x288 with 2 Axes>"
      ]
     },
     "metadata": {
      "needs_background": "light"
     },
     "output_type": "display_data"
    },
    {
     "data": {
      "image/png": "[encoded data removed]",
      "text/plain": [
       "<Figure size 432x288 with 2 Axes>"
      ]
     },
     "metadata": {
      "needs_background": "light"
     },
     "output_type": "display_data"
    },
    {
     "data": {
      "image/png": "[encoded data removed]",
      "text/plain": [
       "<Figure size 432x288 with 2 Axes>"
      ]
     },
     "metadata": {
      "needs_background": "light"
     },
     "output_type": "display_data"
    },
    {
     "data": {
      "image/png": "[encoded data removed]",
      "text/plain": [
       "<Figure size 432x288 with 2 Axes>"
      ]
     },
     "metadata": {
      "needs_background": "light"
     },
     "output_type": "display_data"
    },
    {
     "data": {
      "image/png": "[encoded data removed]",
      "text/plain": [
       "<Figure size 432x288 with 2 Axes>"
      ]
     },
     "metadata": {
      "needs_background": "light"
     },
     "output_type": "display_data"
    },
    {
     "data": {
      "image/png": "[encoded data removed]",
      "text/plain": [
       "<Figure size 432x288 with 2 Axes>"
      ]
     },
     "metadata": {
      "needs_background": "light"
     },
     "output_type": "display_data"
    },
    {
     "data": {
      "application/javascript": [
       "\n",
       "            setTimeout(function() {\n",
       "                var nbb_cell_id = 9;\n",
       "                var nbb_unformatted_code = \"# checking for outliers and distribution\\n\\nnumerical = [\\\"Weight\\\", \\\"Length1\\\", \\\"Length2\\\", \\\"Length3\\\", \\\"Height\\\", \\\"Width\\\"]\\n\\nfor feature in numerical:\\n\\n    plt.subplot(1, 2, 1)\\n    fig = fish_data.boxplot(column=feature)\\n    fig.set_title(\\\" \\\")\\n    fig.set_ylabel(feature)\\n\\n    plt.subplot(1, 2, 2)\\n    fig = sns.distplot(fish_data[feature])\\n    fig.set_ylabel(\\\"weight\\\")\\n    fig.set_xlabel(feature)\\n\\n    plt.show()\";\n",
       "                var nbb_formatted_code = \"# checking for outliers and distribution\\n\\nnumerical = [\\\"Weight\\\", \\\"Length1\\\", \\\"Length2\\\", \\\"Length3\\\", \\\"Height\\\", \\\"Width\\\"]\\n\\nfor feature in numerical:\\n\\n    plt.subplot(1, 2, 1)\\n    fig = fish_data.boxplot(column=feature)\\n    fig.set_title(\\\" \\\")\\n    fig.set_ylabel(feature)\\n\\n    plt.subplot(1, 2, 2)\\n    fig = sns.distplot(fish_data[feature])\\n    fig.set_ylabel(\\\"weight\\\")\\n    fig.set_xlabel(feature)\\n\\n    plt.show()\";\n",
       "                var nbb_cells = Jupyter.notebook.get_cells();\n",
       "                for (var i = 0; i < nbb_cells.length; ++i) {\n",
       "                    if (nbb_cells[i].input_prompt_number == nbb_cell_id) {\n",
       "                        if (nbb_cells[i].get_text() == nbb_unformatted_code) {\n",
       "                             nbb_cells[i].set_text(nbb_formatted_code);\n",
       "                        }\n",
       "                        break;\n",
       "                    }\n",
       "                }\n",
       "            }, 500);\n",
       "            "
      ],
      "text/plain": [
       "<IPython.core.display.Javascript object>"
      ]
     },
     "metadata": {},
     "output_type": "display_data"
    }
   ],
   "source": [
    "# checking for outliers and distribution\n",
    "\n",
    "numerical = [\"Weight\", \"Length1\", \"Length2\", \"Length3\", \"Height\", \"Width\"]\n",
    "\n",
    "for feature in numerical:\n",
    "\n",
    "    plt.subplot(1, 2, 1)\n",
    "    fig = fish_data.boxplot(column=feature)\n",
    "    fig.set_title(\" \")\n",
    "    fig.set_ylabel(feature)\n",
    "\n",
    "    plt.subplot(1, 2, 2)\n",
    "    fig = sns.distplot(fish_data[feature])\n",
    "    fig.set_ylabel(\"weight\")\n",
    "    fig.set_xlabel(feature)\n",
    "\n",
    "    plt.show()"
   ]
  },
  {
   "cell_type": "markdown",
   "metadata": {},
   "source": [
    "There outliers present in target variable \"Weight\" and features \"Lenght1\", \"Length2\". Rest of the data looks good.<br>\n",
    "The distributions look skewed. "
   ]
  },
  {
   "cell_type": "code",
   "execution_count": 10,
   "metadata": {},
   "outputs": [
    {
     "name": "stdout",
     "output_type": "stream",
     "text": [
      "13    1550.0\n",
      "Name: Weight, dtype: float64\n",
      "13    56.0\n",
      "Name: Length1, dtype: float64\n",
      "13    60.0\n",
      "Name: Length2, dtype: float64\n",
      "Series([], Name: Length3, dtype: float64)\n",
      "Series([], Name: Height, dtype: float64)\n",
      "Series([], Name: Width, dtype: float64)\n"
     ]
    },
    {
     "data": {
      "application/javascript": [
       "\n",
       "            setTimeout(function() {\n",
       "                var nbb_cell_id = 10;\n",
       "                var nbb_unformatted_code = \"# finding the outliers\\n\\nfor col in numerical:\\n    df = fish_data[col]\\n    df_Q1 = df.quantile(0.25)\\n    df_Q3 = df.quantile(0.75)\\n    df_IQR = df_Q3 - df_Q1\\n    df_lowerend = df_Q1 - (1.5 * df_IQR)\\n    df_upperend = df_Q3 + (1.5 * df_IQR)\\n\\n    df_outliers = df[(df < df_lowerend) | (df > df_upperend)]\\n    print(df_outliers)\";\n",
       "                var nbb_formatted_code = \"# finding the outliers\\n\\nfor col in numerical:\\n    df = fish_data[col]\\n    df_Q1 = df.quantile(0.25)\\n    df_Q3 = df.quantile(0.75)\\n    df_IQR = df_Q3 - df_Q1\\n    df_lowerend = df_Q1 - (1.5 * df_IQR)\\n    df_upperend = df_Q3 + (1.5 * df_IQR)\\n\\n    df_outliers = df[(df < df_lowerend) | (df > df_upperend)]\\n    print(df_outliers)\";\n",
       "                var nbb_cells = Jupyter.notebook.get_cells();\n",
       "                for (var i = 0; i < nbb_cells.length; ++i) {\n",
       "                    if (nbb_cells[i].input_prompt_number == nbb_cell_id) {\n",
       "                        if (nbb_cells[i].get_text() == nbb_unformatted_code) {\n",
       "                             nbb_cells[i].set_text(nbb_formatted_code);\n",
       "                        }\n",
       "                        break;\n",
       "                    }\n",
       "                }\n",
       "            }, 500);\n",
       "            "
      ],
      "text/plain": [
       "<IPython.core.display.Javascript object>"
      ]
     },
     "metadata": {},
     "output_type": "display_data"
    }
   ],
   "source": [
    "# finding the outliers\n",
    "\n",
    "for col in numerical:\n",
    "    df = fish_data[col]\n",
    "    df_Q1 = df.quantile(0.25)\n",
    "    df_Q3 = df.quantile(0.75)\n",
    "    df_IQR = df_Q3 - df_Q1\n",
    "    df_lowerend = df_Q1 - (1.5 * df_IQR)\n",
    "    df_upperend = df_Q3 + (1.5 * df_IQR)\n",
    "\n",
    "    df_outliers = df[(df < df_lowerend) | (df > df_upperend)]\n",
    "    print(df_outliers)"
   ]
  },
  {
   "cell_type": "markdown",
   "metadata": {},
   "source": [
    "Record at row # 13 seems to be the outlier for weight, lenght1 and length2. <br>\n",
    "Dropping this record from the dataset."
   ]
  },
  {
   "cell_type": "code",
   "execution_count": 11,
   "metadata": {},
   "outputs": [
    {
     "data": {
      "application/javascript": [
       "\n",
       "            setTimeout(function() {\n",
       "                var nbb_cell_id = 11;\n",
       "                var nbb_unformatted_code = \"# dropping the outlier row # 13\\nfish_data = fish_data.drop([13])\";\n",
       "                var nbb_formatted_code = \"# dropping the outlier row # 13\\nfish_data = fish_data.drop([13])\";\n",
       "                var nbb_cells = Jupyter.notebook.get_cells();\n",
       "                for (var i = 0; i < nbb_cells.length; ++i) {\n",
       "                    if (nbb_cells[i].input_prompt_number == nbb_cell_id) {\n",
       "                        if (nbb_cells[i].get_text() == nbb_unformatted_code) {\n",
       "                             nbb_cells[i].set_text(nbb_formatted_code);\n",
       "                        }\n",
       "                        break;\n",
       "                    }\n",
       "                }\n",
       "            }, 500);\n",
       "            "
      ],
      "text/plain": [
       "<IPython.core.display.Javascript object>"
      ]
     },
     "metadata": {},
     "output_type": "display_data"
    }
   ],
   "source": [
    "# dropping the outlier at row # 13\n",
    "fish_data = fish_data.drop([13])"
   ]
  },
  {
   "cell_type": "code",
   "execution_count": 12,
   "metadata": {},
   "outputs": [
    {
     "data": {
      "application/javascript": [
       "\n",
       "            setTimeout(function() {\n",
       "                var nbb_cell_id = 12;\n",
       "                var nbb_unformatted_code = \"# applying log conversion to normalizes the distribution of features and the target variable to some extent\\nfish_data[\\\"Weight\\\"] = np.log(fish_data[\\\"Weight\\\"])\\nfish_data[\\\"Length1\\\"] = np.log(fish_data[\\\"Length1\\\"])\\nfish_data[\\\"Length2\\\"] = np.log(fish_data[\\\"Length2\\\"])\\nfish_data[\\\"Length3\\\"] = np.log(fish_data[\\\"Length3\\\"])\\nfish_data[\\\"Height\\\"] = np.log(fish_data[\\\"Height\\\"])\\nfish_data[\\\"Width\\\"] = np.log(fish_data[\\\"Width\\\"])\";\n",
       "                var nbb_formatted_code = \"# applying log conversion to normalizes the distribution of features and the target variable to some extent\\nfish_data[\\\"Weight\\\"] = np.log(fish_data[\\\"Weight\\\"])\\nfish_data[\\\"Length1\\\"] = np.log(fish_data[\\\"Length1\\\"])\\nfish_data[\\\"Length2\\\"] = np.log(fish_data[\\\"Length2\\\"])\\nfish_data[\\\"Length3\\\"] = np.log(fish_data[\\\"Length3\\\"])\\nfish_data[\\\"Height\\\"] = np.log(fish_data[\\\"Height\\\"])\\nfish_data[\\\"Width\\\"] = np.log(fish_data[\\\"Width\\\"])\";\n",
       "                var nbb_cells = Jupyter.notebook.get_cells();\n",
       "                for (var i = 0; i < nbb_cells.length; ++i) {\n",
       "                    if (nbb_cells[i].input_prompt_number == nbb_cell_id) {\n",
       "                        if (nbb_cells[i].get_text() == nbb_unformatted_code) {\n",
       "                             nbb_cells[i].set_text(nbb_formatted_code);\n",
       "                        }\n",
       "                        break;\n",
       "                    }\n",
       "                }\n",
       "            }, 500);\n",
       "            "
      ],
      "text/plain": [
       "<IPython.core.display.Javascript object>"
      ]
     },
     "metadata": {},
     "output_type": "display_data"
    }
   ],
   "source": [
    "# applying log conversion to normalizes the distribution of features and the target variable to some extent\n",
    "fish_data[\"Weight\"] = np.log(fish_data[\"Weight\"])\n",
    "fish_data[\"Length1\"] = np.log(fish_data[\"Length1\"])\n",
    "fish_data[\"Length2\"] = np.log(fish_data[\"Length2\"])\n",
    "fish_data[\"Length3\"] = np.log(fish_data[\"Length3\"])\n",
    "fish_data[\"Height\"] = np.log(fish_data[\"Height\"])\n",
    "fish_data[\"Width\"] = np.log(fish_data[\"Width\"])"
   ]
  },
  {
   "cell_type": "code",
   "execution_count": 13,
   "metadata": {},
   "outputs": [
    {
     "data": {
      "image/png": "[encoded data removed]",
      "text/plain": [
       "<Figure size 432x288 with 2 Axes>"
      ]
     },
     "metadata": {
      "needs_background": "light"
     },
     "output_type": "display_data"
    },
    {
     "data": {
      "image/png": "[encoded data removed]",
      "text/plain": [
       "<Figure size 432x288 with 2 Axes>"
      ]
     },
     "metadata": {
      "needs_background": "light"
     },
     "output_type": "display_data"
    },
    {
     "data": {
      "image/png": "[encoded data removed]",
      "text/plain": [
       "<Figure size 432x288 with 2 Axes>"
      ]
     },
     "metadata": {
      "needs_background": "light"
     },
     "output_type": "display_data"
    },
    {
     "data": {
      "image/png": "[encoded data removed]",
      "text/plain": [
       "<Figure size 432x288 with 2 Axes>"
      ]
     },
     "metadata": {
      "needs_background": "light"
     },
     "output_type": "display_data"
    },
    {
     "data": {
      "image/png": "[encoded data removed]",
      "text/plain": [
       "<Figure size 432x288 with 2 Axes>"
      ]
     },
     "metadata": {
      "needs_background": "light"
     },
     "output_type": "display_data"
    },
    {
     "data": {
      "image/png": "[encoded data removed]",
      "text/plain": [
       "<Figure size 432x288 with 2 Axes>"
      ]
     },
     "metadata": {
      "needs_background": "light"
     },
     "output_type": "display_data"
    },
    {
     "data": {
      "application/javascript": [
       "\n",
       "            setTimeout(function() {\n",
       "                var nbb_cell_id = 13;\n",
       "                var nbb_unformatted_code = \"# rechecking the linear relationships and distributions\\n\\nnumerical = [\\\"Weight\\\", \\\"Length1\\\", \\\"Length2\\\", \\\"Length3\\\", \\\"Height\\\", \\\"Width\\\"]\\n\\nfor feature in numerical:\\n\\n    plt.subplot(1, 2, 2)\\n    fig = sns.distplot(fish_data[feature])\\n    fig.set_ylabel(\\\"weight\\\")\\n    fig.set_xlabel(feature)\\n\\n    plt.subplot(1, 2, 1)\\n    plt.scatter(x=fish_data[feature], y=fish_data[\\\"Weight\\\"])\\n    plt.xlabel(feature)\\n    plt.ylabel(\\\"weight\\\")\\n    plt.show()\\n\\n    plt.show()\";\n",
       "                var nbb_formatted_code = \"# rechecking the linear relationships and distributions\\n\\nnumerical = [\\\"Weight\\\", \\\"Length1\\\", \\\"Length2\\\", \\\"Length3\\\", \\\"Height\\\", \\\"Width\\\"]\\n\\nfor feature in numerical:\\n\\n    plt.subplot(1, 2, 2)\\n    fig = sns.distplot(fish_data[feature])\\n    fig.set_ylabel(\\\"weight\\\")\\n    fig.set_xlabel(feature)\\n\\n    plt.subplot(1, 2, 1)\\n    plt.scatter(x=fish_data[feature], y=fish_data[\\\"Weight\\\"])\\n    plt.xlabel(feature)\\n    plt.ylabel(\\\"weight\\\")\\n    plt.show()\\n\\n    plt.show()\";\n",
       "                var nbb_cells = Jupyter.notebook.get_cells();\n",
       "                for (var i = 0; i < nbb_cells.length; ++i) {\n",
       "                    if (nbb_cells[i].input_prompt_number == nbb_cell_id) {\n",
       "                        if (nbb_cells[i].get_text() == nbb_unformatted_code) {\n",
       "                             nbb_cells[i].set_text(nbb_formatted_code);\n",
       "                        }\n",
       "                        break;\n",
       "                    }\n",
       "                }\n",
       "            }, 500);\n",
       "            "
      ],
      "text/plain": [
       "<IPython.core.display.Javascript object>"
      ]
     },
     "metadata": {},
     "output_type": "display_data"
    }
   ],
   "source": [
    "# rechecking the linear relationships and distributions\n",
    "\n",
    "numerical = [\"Weight\", \"Length1\", \"Length2\", \"Length3\", \"Height\", \"Width\"]\n",
    "\n",
    "for feature in numerical:\n",
    "\n",
    "    plt.subplot(1, 2, 2)\n",
    "    fig = sns.distplot(fish_data[feature])\n",
    "    fig.set_ylabel(\"weight\")\n",
    "    fig.set_xlabel(feature)\n",
    "\n",
    "    plt.subplot(1, 2, 1)\n",
    "    plt.scatter(x=fish_data[feature], y=fish_data[\"Weight\"])\n",
    "    plt.xlabel(feature)\n",
    "    plt.ylabel(\"weight\")\n",
    "    plt.show()\n",
    "\n",
    "    plt.show()"
   ]
  },
  {
   "cell_type": "markdown",
   "metadata": {},
   "source": [
    "The linear relationship between the features and the target variable looks better now. <br>\n",
    "The distributions are still a little skewed but for now we will move ahead with this. "
   ]
  },
  {
   "cell_type": "code",
   "execution_count": 14,
   "metadata": {},
   "outputs": [
    {
     "name": "stdout",
     "output_type": "stream",
     "text": [
      "Perch        39\n",
      "Bream        24\n",
      "Roach        14\n",
      "Pike         11\n",
      "Smelt        10\n",
      "Parkki        8\n",
      "Whitefish     4\n",
      "Name: Species, dtype: int64\n"
     ]
    },
    {
     "data": {
      "image/png": "[encoded data removed]",
      "text/plain": [
       "<Figure size 432x288 with 1 Axes>"
      ]
     },
     "metadata": {
      "needs_background": "light"
     },
     "output_type": "display_data"
    },
    {
     "data": {
      "application/javascript": [
       "\n",
       "            setTimeout(function() {\n",
       "                var nbb_cell_id = 14;\n",
       "                var nbb_unformatted_code = \"# checking the categorical feature - Species\\nprint(fish_data[\\\"Species\\\"].value_counts())\\nfish_data[\\\"Species\\\"].value_counts().plot(kind=\\\"bar\\\")\\nplt.show()\";\n",
       "                var nbb_formatted_code = \"# checking the categorical feature - Species\\nprint(fish_data[\\\"Species\\\"].value_counts())\\nfish_data[\\\"Species\\\"].value_counts().plot(kind=\\\"bar\\\")\\nplt.show()\";\n",
       "                var nbb_cells = Jupyter.notebook.get_cells();\n",
       "                for (var i = 0; i < nbb_cells.length; ++i) {\n",
       "                    if (nbb_cells[i].input_prompt_number == nbb_cell_id) {\n",
       "                        if (nbb_cells[i].get_text() == nbb_unformatted_code) {\n",
       "                             nbb_cells[i].set_text(nbb_formatted_code);\n",
       "                        }\n",
       "                        break;\n",
       "                    }\n",
       "                }\n",
       "            }, 500);\n",
       "            "
      ],
      "text/plain": [
       "<IPython.core.display.Javascript object>"
      ]
     },
     "metadata": {},
     "output_type": "display_data"
    }
   ],
   "source": [
    "# checking the categorical feature - Species\n",
    "print(fish_data[\"Species\"].value_counts())\n",
    "fish_data[\"Species\"].value_counts().plot(kind=\"bar\")\n",
    "plt.show()"
   ]
  },
  {
   "cell_type": "markdown",
   "metadata": {},
   "source": [
    "This catgorical feature will need encoding. I will handle this using OneHotEncoder later in this code. "
   ]
  },
  {
   "cell_type": "code",
   "execution_count": 15,
   "metadata": {},
   "outputs": [
    {
     "data": {
      "text/html": [
       "<div>\n",
       "<style scoped>\n",
       "    .dataframe tbody tr th:only-of-type {\n",
       "        vertical-align: middle;\n",
       "    }\n",
       "\n",
       "    .dataframe tbody tr th {\n",
       "        vertical-align: top;\n",
       "    }\n",
       "\n",
       "    .dataframe thead th {\n",
       "        text-align: right;\n",
       "    }\n",
       "</style>\n",
       "<table border=\"1\" class=\"dataframe\">\n",
       "  <thead>\n",
       "    <tr style=\"text-align: right;\">\n",
       "      <th></th>\n",
       "      <th>Length1</th>\n",
       "      <th>Length2</th>\n",
       "      <th>Length3</th>\n",
       "    </tr>\n",
       "  </thead>\n",
       "  <tbody>\n",
       "    <tr>\n",
       "      <th>Length1</th>\n",
       "      <td>1.000000</td>\n",
       "      <td>0.999338</td>\n",
       "      <td>0.994402</td>\n",
       "    </tr>\n",
       "    <tr>\n",
       "      <th>Length2</th>\n",
       "      <td>0.999338</td>\n",
       "      <td>1.000000</td>\n",
       "      <td>0.995762</td>\n",
       "    </tr>\n",
       "    <tr>\n",
       "      <th>Length3</th>\n",
       "      <td>0.994402</td>\n",
       "      <td>0.995762</td>\n",
       "      <td>1.000000</td>\n",
       "    </tr>\n",
       "  </tbody>\n",
       "</table>\n",
       "</div>"
      ],
      "text/plain": [
       "          Length1   Length2   Length3\n",
       "Length1  1.000000  0.999338  0.994402\n",
       "Length2  0.999338  1.000000  0.995762\n",
       "Length3  0.994402  0.995762  1.000000"
      ]
     },
     "execution_count": 15,
     "metadata": {},
     "output_type": "execute_result"
    },
    {
     "data": {
      "application/javascript": [
       "\n",
       "            setTimeout(function() {\n",
       "                var nbb_cell_id = 15;\n",
       "                var nbb_unformatted_code = \"# checking for collinerity between the 3 length variables\\nfish_data[[\\\"Length1\\\", \\\"Length2\\\", \\\"Length3\\\"]].corr()\";\n",
       "                var nbb_formatted_code = \"# checking for collinerity between the 3 length variables\\nfish_data[[\\\"Length1\\\", \\\"Length2\\\", \\\"Length3\\\"]].corr()\";\n",
       "                var nbb_cells = Jupyter.notebook.get_cells();\n",
       "                for (var i = 0; i < nbb_cells.length; ++i) {\n",
       "                    if (nbb_cells[i].input_prompt_number == nbb_cell_id) {\n",
       "                        if (nbb_cells[i].get_text() == nbb_unformatted_code) {\n",
       "                             nbb_cells[i].set_text(nbb_formatted_code);\n",
       "                        }\n",
       "                        break;\n",
       "                    }\n",
       "                }\n",
       "            }, 500);\n",
       "            "
      ],
      "text/plain": [
       "<IPython.core.display.Javascript object>"
      ]
     },
     "metadata": {},
     "output_type": "display_data"
    }
   ],
   "source": [
    "# checking for collinerity between the 3 length variables\n",
    "fish_data[[\"Length1\", \"Length2\", \"Length3\"]].corr()"
   ]
  },
  {
   "cell_type": "markdown",
   "metadata": {},
   "source": [
    "The 3 lenght variables are highly correlated. Let's check their values."
   ]
  },
  {
   "cell_type": "code",
   "execution_count": 16,
   "metadata": {},
   "outputs": [
    {
     "data": {
      "text/html": [
       "<div>\n",
       "<style scoped>\n",
       "    .dataframe tbody tr th:only-of-type {\n",
       "        vertical-align: middle;\n",
       "    }\n",
       "\n",
       "    .dataframe tbody tr th {\n",
       "        vertical-align: top;\n",
       "    }\n",
       "\n",
       "    .dataframe thead th {\n",
       "        text-align: right;\n",
       "    }\n",
       "</style>\n",
       "<table border=\"1\" class=\"dataframe\">\n",
       "  <thead>\n",
       "    <tr style=\"text-align: right;\">\n",
       "      <th></th>\n",
       "      <th>Length1</th>\n",
       "      <th>Length2</th>\n",
       "      <th>Length3</th>\n",
       "    </tr>\n",
       "  </thead>\n",
       "  <tbody>\n",
       "    <tr>\n",
       "      <th>0</th>\n",
       "      <td>3.277145</td>\n",
       "      <td>3.367296</td>\n",
       "      <td>3.526361</td>\n",
       "    </tr>\n",
       "    <tr>\n",
       "      <th>1</th>\n",
       "      <td>2.995732</td>\n",
       "      <td>3.091042</td>\n",
       "      <td>3.157000</td>\n",
       "    </tr>\n",
       "    <tr>\n",
       "      <th>2</th>\n",
       "      <td>3.020425</td>\n",
       "      <td>3.113515</td>\n",
       "      <td>3.230804</td>\n",
       "    </tr>\n",
       "    <tr>\n",
       "      <th>3</th>\n",
       "      <td>2.660260</td>\n",
       "      <td>2.740840</td>\n",
       "      <td>2.856470</td>\n",
       "    </tr>\n",
       "    <tr>\n",
       "      <th>4</th>\n",
       "      <td>3.414443</td>\n",
       "      <td>3.496508</td>\n",
       "      <td>3.645450</td>\n",
       "    </tr>\n",
       "    <tr>\n",
       "      <th>5</th>\n",
       "      <td>2.624669</td>\n",
       "      <td>2.708050</td>\n",
       "      <td>2.772589</td>\n",
       "    </tr>\n",
       "    <tr>\n",
       "      <th>6</th>\n",
       "      <td>3.414443</td>\n",
       "      <td>3.496508</td>\n",
       "      <td>3.650658</td>\n",
       "    </tr>\n",
       "    <tr>\n",
       "      <th>7</th>\n",
       "      <td>3.234749</td>\n",
       "      <td>3.314186</td>\n",
       "      <td>3.363842</td>\n",
       "    </tr>\n",
       "    <tr>\n",
       "      <th>8</th>\n",
       "      <td>2.230014</td>\n",
       "      <td>2.282382</td>\n",
       "      <td>2.379546</td>\n",
       "    </tr>\n",
       "    <tr>\n",
       "      <th>9</th>\n",
       "      <td>3.144152</td>\n",
       "      <td>3.234749</td>\n",
       "      <td>3.401197</td>\n",
       "    </tr>\n",
       "  </tbody>\n",
       "</table>\n",
       "</div>"
      ],
      "text/plain": [
       "    Length1   Length2   Length3\n",
       "0  3.277145  3.367296  3.526361\n",
       "1  2.995732  3.091042  3.157000\n",
       "2  3.020425  3.113515  3.230804\n",
       "3  2.660260  2.740840  2.856470\n",
       "4  3.414443  3.496508  3.645450\n",
       "5  2.624669  2.708050  2.772589\n",
       "6  3.414443  3.496508  3.650658\n",
       "7  3.234749  3.314186  3.363842\n",
       "8  2.230014  2.282382  2.379546\n",
       "9  3.144152  3.234749  3.401197"
      ]
     },
     "execution_count": 16,
     "metadata": {},
     "output_type": "execute_result"
    },
    {
     "data": {
      "application/javascript": [
       "\n",
       "            setTimeout(function() {\n",
       "                var nbb_cell_id = 16;\n",
       "                var nbb_unformatted_code = \"fish_data[[\\\"Length1\\\", \\\"Length2\\\", \\\"Length3\\\"]].head(10)\";\n",
       "                var nbb_formatted_code = \"fish_data[[\\\"Length1\\\", \\\"Length2\\\", \\\"Length3\\\"]].head(10)\";\n",
       "                var nbb_cells = Jupyter.notebook.get_cells();\n",
       "                for (var i = 0; i < nbb_cells.length; ++i) {\n",
       "                    if (nbb_cells[i].input_prompt_number == nbb_cell_id) {\n",
       "                        if (nbb_cells[i].get_text() == nbb_unformatted_code) {\n",
       "                             nbb_cells[i].set_text(nbb_formatted_code);\n",
       "                        }\n",
       "                        break;\n",
       "                    }\n",
       "                }\n",
       "            }, 500);\n",
       "            "
      ],
      "text/plain": [
       "<IPython.core.display.Javascript object>"
      ]
     },
     "metadata": {},
     "output_type": "display_data"
    }
   ],
   "source": [
    "fish_data[[\"Length1\", \"Length2\", \"Length3\"]].head(10)"
   ]
  },
  {
   "cell_type": "markdown",
   "metadata": {},
   "source": [
    "Since Length3 values are the highest for each row, it is probably the Total Length of the fish. <br>\n",
    "So keeping Length3 and dropping the other two length variables from the dataset. "
   ]
  },
  {
   "cell_type": "code",
   "execution_count": 17,
   "metadata": {},
   "outputs": [
    {
     "data": {
      "application/javascript": [
       "\n",
       "            setTimeout(function() {\n",
       "                var nbb_cell_id = 17;\n",
       "                var nbb_unformatted_code = \"fish_data = fish_data.drop([\\\"Length1\\\", \\\"Length2\\\"], axis=1)\";\n",
       "                var nbb_formatted_code = \"fish_data = fish_data.drop([\\\"Length1\\\", \\\"Length2\\\"], axis=1)\";\n",
       "                var nbb_cells = Jupyter.notebook.get_cells();\n",
       "                for (var i = 0; i < nbb_cells.length; ++i) {\n",
       "                    if (nbb_cells[i].input_prompt_number == nbb_cell_id) {\n",
       "                        if (nbb_cells[i].get_text() == nbb_unformatted_code) {\n",
       "                             nbb_cells[i].set_text(nbb_formatted_code);\n",
       "                        }\n",
       "                        break;\n",
       "                    }\n",
       "                }\n",
       "            }, 500);\n",
       "            "
      ],
      "text/plain": [
       "<IPython.core.display.Javascript object>"
      ]
     },
     "metadata": {},
     "output_type": "display_data"
    }
   ],
   "source": [
    "fish_data = fish_data.drop([\"Length1\", \"Length2\"], axis=1)"
   ]
  },
  {
   "cell_type": "markdown",
   "metadata": {},
   "source": [
    "### Model Creation"
   ]
  },
  {
   "cell_type": "code",
   "execution_count": 18,
   "metadata": {},
   "outputs": [
    {
     "data": {
      "application/javascript": [
       "\n",
       "            setTimeout(function() {\n",
       "                var nbb_cell_id = 18;\n",
       "                var nbb_unformatted_code = \"# dividing the data into features and target variable\\nX = fish_data.drop(\\\"Weight\\\", axis=1)\\ny = fish_data[\\\"Weight\\\"]\";\n",
       "                var nbb_formatted_code = \"# dividing the data into features and target variable\\nX = fish_data.drop(\\\"Weight\\\", axis=1)\\ny = fish_data[\\\"Weight\\\"]\";\n",
       "                var nbb_cells = Jupyter.notebook.get_cells();\n",
       "                for (var i = 0; i < nbb_cells.length; ++i) {\n",
       "                    if (nbb_cells[i].input_prompt_number == nbb_cell_id) {\n",
       "                        if (nbb_cells[i].get_text() == nbb_unformatted_code) {\n",
       "                             nbb_cells[i].set_text(nbb_formatted_code);\n",
       "                        }\n",
       "                        break;\n",
       "                    }\n",
       "                }\n",
       "            }, 500);\n",
       "            "
      ],
      "text/plain": [
       "<IPython.core.display.Javascript object>"
      ]
     },
     "metadata": {},
     "output_type": "display_data"
    }
   ],
   "source": [
    "# dividing the data into features and target variable\n",
    "X = fish_data.drop(\"Weight\", axis=1)\n",
    "y = fish_data[\"Weight\"]"
   ]
  },
  {
   "cell_type": "code",
   "execution_count": 19,
   "metadata": {},
   "outputs": [
    {
     "data": {
      "application/javascript": [
       "\n",
       "            setTimeout(function() {\n",
       "                var nbb_cell_id = 19;\n",
       "                var nbb_unformatted_code = \"# encoding the categorical feature - species\\nct = ColumnTransformer(\\n    [(\\\"one_hot_encoder\\\", OneHotEncoder(categories=\\\"auto\\\"), [0])],\\n    remainder=\\\"passthrough\\\",\\n)\\n\\nX = ct.fit_transform(X)\";\n",
       "                var nbb_formatted_code = \"# encoding the categorical feature - species\\nct = ColumnTransformer(\\n    [(\\\"one_hot_encoder\\\", OneHotEncoder(categories=\\\"auto\\\"), [0])],\\n    remainder=\\\"passthrough\\\",\\n)\\n\\nX = ct.fit_transform(X)\";\n",
       "                var nbb_cells = Jupyter.notebook.get_cells();\n",
       "                for (var i = 0; i < nbb_cells.length; ++i) {\n",
       "                    if (nbb_cells[i].input_prompt_number == nbb_cell_id) {\n",
       "                        if (nbb_cells[i].get_text() == nbb_unformatted_code) {\n",
       "                             nbb_cells[i].set_text(nbb_formatted_code);\n",
       "                        }\n",
       "                        break;\n",
       "                    }\n",
       "                }\n",
       "            }, 500);\n",
       "            "
      ],
      "text/plain": [
       "<IPython.core.display.Javascript object>"
      ]
     },
     "metadata": {},
     "output_type": "display_data"
    }
   ],
   "source": [
    "# encoding the categorical feature - species\n",
    "ct = ColumnTransformer(\n",
    "    [(\"one_hot_encoder\", OneHotEncoder(categories=\"auto\"), [0])],\n",
    "    remainder=\"passthrough\",\n",
    ")\n",
    "\n",
    "X = ct.fit_transform(X)"
   ]
  },
  {
   "cell_type": "code",
   "execution_count": 20,
   "metadata": {},
   "outputs": [
    {
     "data": {
      "application/javascript": [
       "\n",
       "            setTimeout(function() {\n",
       "                var nbb_cell_id = 20;\n",
       "                var nbb_unformatted_code = \"# splitting the data into train test\\nX_train, X_test, y_train, y_test = train_test_split(X, y, test_size=0.3, random_state=0)\";\n",
       "                var nbb_formatted_code = \"# splitting the data into train test\\nX_train, X_test, y_train, y_test = train_test_split(X, y, test_size=0.3, random_state=0)\";\n",
       "                var nbb_cells = Jupyter.notebook.get_cells();\n",
       "                for (var i = 0; i < nbb_cells.length; ++i) {\n",
       "                    if (nbb_cells[i].input_prompt_number == nbb_cell_id) {\n",
       "                        if (nbb_cells[i].get_text() == nbb_unformatted_code) {\n",
       "                             nbb_cells[i].set_text(nbb_formatted_code);\n",
       "                        }\n",
       "                        break;\n",
       "                    }\n",
       "                }\n",
       "            }, 500);\n",
       "            "
      ],
      "text/plain": [
       "<IPython.core.display.Javascript object>"
      ]
     },
     "metadata": {},
     "output_type": "display_data"
    }
   ],
   "source": [
    "# splitting the data into train test\n",
    "X_train, X_test, y_train, y_test = train_test_split(X, y, test_size=0.3, random_state=0)"
   ]
  },
  {
   "cell_type": "markdown",
   "metadata": {},
   "source": [
    "### Linear Regression"
   ]
  },
  {
   "cell_type": "code",
   "execution_count": 21,
   "metadata": {},
   "outputs": [
    {
     "data": {
      "application/javascript": [
       "\n",
       "            setTimeout(function() {\n",
       "                var nbb_cell_id = 21;\n",
       "                var nbb_unformatted_code = \"# building pipeline for Linear Regression\\npipe = make_pipeline(StandardScaler(), LinearRegression())\\n\\n# fitting the data\\npipe.fit(X_train, y_train)\\n\\n# predicting\\ny_predict = pipe.predict(X_test)\";\n",
       "                var nbb_formatted_code = \"# building pipeline for Linear Regression\\npipe = make_pipeline(StandardScaler(), LinearRegression())\\n\\n# fitting the data\\npipe.fit(X_train, y_train)\\n\\n# predicting\\ny_predict = pipe.predict(X_test)\";\n",
       "                var nbb_cells = Jupyter.notebook.get_cells();\n",
       "                for (var i = 0; i < nbb_cells.length; ++i) {\n",
       "                    if (nbb_cells[i].input_prompt_number == nbb_cell_id) {\n",
       "                        if (nbb_cells[i].get_text() == nbb_unformatted_code) {\n",
       "                             nbb_cells[i].set_text(nbb_formatted_code);\n",
       "                        }\n",
       "                        break;\n",
       "                    }\n",
       "                }\n",
       "            }, 500);\n",
       "            "
      ],
      "text/plain": [
       "<IPython.core.display.Javascript object>"
      ]
     },
     "metadata": {},
     "output_type": "display_data"
    }
   ],
   "source": [
    "# building pipeline for Linear Regression\n",
    "pipe = make_pipeline(StandardScaler(), LinearRegression())\n",
    "\n",
    "# fitting the data\n",
    "pipe.fit(X_train, y_train)\n",
    "\n",
    "# predicting\n",
    "y_predict = pipe.predict(X_test)"
   ]
  },
  {
   "cell_type": "code",
   "execution_count": 22,
   "metadata": {},
   "outputs": [
    {
     "data": {
      "image/png": "[encoded data removed]",
      "text/plain": [
       "<Figure size 432x288 with 1 Axes>"
      ]
     },
     "metadata": {
      "needs_background": "light"
     },
     "output_type": "display_data"
    },
    {
     "data": {
      "application/javascript": [
       "\n",
       "            setTimeout(function() {\n",
       "                var nbb_cell_id = 22;\n",
       "                var nbb_unformatted_code = \"# Residual Plot\\nplt.scatter(y_predict, y_test - y_predict)\\nplt.xlabel(\\\"Predicted Values\\\")\\nplt.ylabel(\\\"Residuals\\\")\\nplt.show()\";\n",
       "                var nbb_formatted_code = \"# Residual Plot\\nplt.scatter(y_predict, y_test - y_predict)\\nplt.xlabel(\\\"Predicted Values\\\")\\nplt.ylabel(\\\"Residuals\\\")\\nplt.show()\";\n",
       "                var nbb_cells = Jupyter.notebook.get_cells();\n",
       "                for (var i = 0; i < nbb_cells.length; ++i) {\n",
       "                    if (nbb_cells[i].input_prompt_number == nbb_cell_id) {\n",
       "                        if (nbb_cells[i].get_text() == nbb_unformatted_code) {\n",
       "                             nbb_cells[i].set_text(nbb_formatted_code);\n",
       "                        }\n",
       "                        break;\n",
       "                    }\n",
       "                }\n",
       "            }, 500);\n",
       "            "
      ],
      "text/plain": [
       "<IPython.core.display.Javascript object>"
      ]
     },
     "metadata": {},
     "output_type": "display_data"
    }
   ],
   "source": [
    "# Residual Plot\n",
    "plt.scatter(y_predict, y_test - y_predict)\n",
    "plt.xlabel(\"Predicted Values\")\n",
    "plt.ylabel(\"Residuals\")\n",
    "plt.show()"
   ]
  },
  {
   "cell_type": "code",
   "execution_count": 23,
   "metadata": {},
   "outputs": [
    {
     "data": {
      "image/png": "[encoded data removed]",
      "text/plain": [
       "<Figure size 576x288 with 1 Axes>"
      ]
     },
     "metadata": {},
     "output_type": "display_data"
    },
    {
     "data": {
      "application/javascript": [
       "\n",
       "            setTimeout(function() {\n",
       "                var nbb_cell_id = 23;\n",
       "                var nbb_unformatted_code = \"# Normal Q-Q plot\\nsns.set(style=\\\"whitegrid\\\")\\nplt.figure(figsize=(8, 4))\\nstats.probplot(y_test - y_predict, dist=\\\"norm\\\", plot=plt)\\nplt.title(\\\"Normal Q-Q plot\\\")\\nplt.show()\";\n",
       "                var nbb_formatted_code = \"# Normal Q-Q plot\\nsns.set(style=\\\"whitegrid\\\")\\nplt.figure(figsize=(8, 4))\\nstats.probplot(y_test - y_predict, dist=\\\"norm\\\", plot=plt)\\nplt.title(\\\"Normal Q-Q plot\\\")\\nplt.show()\";\n",
       "                var nbb_cells = Jupyter.notebook.get_cells();\n",
       "                for (var i = 0; i < nbb_cells.length; ++i) {\n",
       "                    if (nbb_cells[i].input_prompt_number == nbb_cell_id) {\n",
       "                        if (nbb_cells[i].get_text() == nbb_unformatted_code) {\n",
       "                             nbb_cells[i].set_text(nbb_formatted_code);\n",
       "                        }\n",
       "                        break;\n",
       "                    }\n",
       "                }\n",
       "            }, 500);\n",
       "            "
      ],
      "text/plain": [
       "<IPython.core.display.Javascript object>"
      ]
     },
     "metadata": {},
     "output_type": "display_data"
    }
   ],
   "source": [
    "# Normal Q-Q plot\n",
    "sns.set(style=\"whitegrid\")\n",
    "plt.figure(figsize=(8, 4))\n",
    "stats.probplot(y_test - y_predict, dist=\"norm\", plot=plt)\n",
    "plt.title(\"Normal Q-Q plot\")\n",
    "plt.show()"
   ]
  },
  {
   "cell_type": "code",
   "execution_count": 24,
   "metadata": {},
   "outputs": [
    {
     "data": {
      "text/plain": [
       "<matplotlib.axes._subplots.AxesSubplot at 0x2338c350c48>"
      ]
     },
     "execution_count": 24,
     "metadata": {},
     "output_type": "execute_result"
    },
    {
     "data": {
      "image/png": "[encoded data removed]",
      "text/plain": [
       "<Figure size 432x288 with 1 Axes>"
      ]
     },
     "metadata": {},
     "output_type": "display_data"
    },
    {
     "data": {
      "application/javascript": [
       "\n",
       "            setTimeout(function() {\n",
       "                var nbb_cell_id = 24;\n",
       "                var nbb_unformatted_code = \"# distplot\\nsns.distplot(y_test - y_predict)\";\n",
       "                var nbb_formatted_code = \"# distplot\\nsns.distplot(y_test - y_predict)\";\n",
       "                var nbb_cells = Jupyter.notebook.get_cells();\n",
       "                for (var i = 0; i < nbb_cells.length; ++i) {\n",
       "                    if (nbb_cells[i].input_prompt_number == nbb_cell_id) {\n",
       "                        if (nbb_cells[i].get_text() == nbb_unformatted_code) {\n",
       "                             nbb_cells[i].set_text(nbb_formatted_code);\n",
       "                        }\n",
       "                        break;\n",
       "                    }\n",
       "                }\n",
       "            }, 500);\n",
       "            "
      ],
      "text/plain": [
       "<IPython.core.display.Javascript object>"
      ]
     },
     "metadata": {},
     "output_type": "display_data"
    }
   ],
   "source": [
    "# distplot\n",
    "sns.distplot(y_test - y_predict)"
   ]
  },
  {
   "cell_type": "code",
   "execution_count": 25,
   "metadata": {},
   "outputs": [
    {
     "name": "stdout",
     "output_type": "stream",
     "text": [
      "\n",
      "Linear Regression Test MSE: 0.009432470007646266\n",
      "Linear Regression Test Accuracy (R-Squared): 0.9929005201021582\n"
     ]
    },
    {
     "data": {
      "application/javascript": [
       "\n",
       "            setTimeout(function() {\n",
       "                var nbb_cell_id = 25;\n",
       "                var nbb_unformatted_code = \"# Test MSE and R2\\nprint(f\\\"\\\\nLinear Regression Test MSE: {mean_squared_error(y_test, y_predict)}\\\")\\nprint(f\\\"Linear Regression Test Accuracy (R-Squared): {r2_score(y_test, y_predict)}\\\")\";\n",
       "                var nbb_formatted_code = \"# Test MSE and R2\\nprint(f\\\"\\\\nLinear Regression Test MSE: {mean_squared_error(y_test, y_predict)}\\\")\\nprint(f\\\"Linear Regression Test Accuracy (R-Squared): {r2_score(y_test, y_predict)}\\\")\";\n",
       "                var nbb_cells = Jupyter.notebook.get_cells();\n",
       "                for (var i = 0; i < nbb_cells.length; ++i) {\n",
       "                    if (nbb_cells[i].input_prompt_number == nbb_cell_id) {\n",
       "                        if (nbb_cells[i].get_text() == nbb_unformatted_code) {\n",
       "                             nbb_cells[i].set_text(nbb_formatted_code);\n",
       "                        }\n",
       "                        break;\n",
       "                    }\n",
       "                }\n",
       "            }, 500);\n",
       "            "
      ],
      "text/plain": [
       "<IPython.core.display.Javascript object>"
      ]
     },
     "metadata": {},
     "output_type": "display_data"
    }
   ],
   "source": [
    "# Test MSE and R2\n",
    "print(f\"\\nLinear Regression Test MSE: {mean_squared_error(y_test, y_predict)}\")\n",
    "print(f\"Linear Regression Test Accuracy (R-Squared): {r2_score(y_test, y_predict)}\")"
   ]
  },
  {
   "cell_type": "code",
   "execution_count": 26,
   "metadata": {},
   "outputs": [
    {
     "name": "stdout",
     "output_type": "stream",
     "text": [
      "\n",
      "Linear Regression Cross Validation Score: 0.009967670222495945\n"
     ]
    },
    {
     "data": {
      "application/javascript": [
       "\n",
       "            setTimeout(function() {\n",
       "                var nbb_cell_id = 26;\n",
       "                var nbb_unformatted_code = \"# cross validation score\\ncv_score = np.mean(\\n    (cross_val_score(pipe, X, y, cv=5, scoring=\\\"neg_mean_squared_error\\\")) * -1\\n)\\nprint(f\\\"\\\\nLinear Regression Cross Validation Score: {cv_score}\\\")\";\n",
       "                var nbb_formatted_code = \"# cross validation score\\ncv_score = np.mean(\\n    (cross_val_score(pipe, X, y, cv=5, scoring=\\\"neg_mean_squared_error\\\")) * -1\\n)\\nprint(f\\\"\\\\nLinear Regression Cross Validation Score: {cv_score}\\\")\";\n",
       "                var nbb_cells = Jupyter.notebook.get_cells();\n",
       "                for (var i = 0; i < nbb_cells.length; ++i) {\n",
       "                    if (nbb_cells[i].input_prompt_number == nbb_cell_id) {\n",
       "                        if (nbb_cells[i].get_text() == nbb_unformatted_code) {\n",
       "                             nbb_cells[i].set_text(nbb_formatted_code);\n",
       "                        }\n",
       "                        break;\n",
       "                    }\n",
       "                }\n",
       "            }, 500);\n",
       "            "
      ],
      "text/plain": [
       "<IPython.core.display.Javascript object>"
      ]
     },
     "metadata": {},
     "output_type": "display_data"
    }
   ],
   "source": [
    "# cross validation score\n",
    "cv_score = np.mean(\n",
    "    (cross_val_score(pipe, X, y, cv=5, scoring=\"neg_mean_squared_error\")) * -1\n",
    ")\n",
    "print(f\"\\nLinear Regression Cross Validation Score: {cv_score}\")"
   ]
  },
  {
   "cell_type": "markdown",
   "metadata": {},
   "source": [
    "### Lasso"
   ]
  },
  {
   "cell_type": "code",
   "execution_count": 27,
   "metadata": {},
   "outputs": [
    {
     "data": {
      "text/plain": [
       "GridSearchCV(cv=5, error_score=nan,\n",
       "             estimator=Pipeline(memory=None,\n",
       "                                steps=[('standardscaler',\n",
       "                                        StandardScaler(copy=True,\n",
       "                                                       with_mean=True,\n",
       "                                                       with_std=True)),\n",
       "                                       ('lasso',\n",
       "                                        Lasso(alpha=1.0, copy_X=True,\n",
       "                                              fit_intercept=True, max_iter=1000,\n",
       "                                              normalize=False, positive=False,\n",
       "                                              precompute=False,\n",
       "                                              random_state=None,\n",
       "                                              selection='cyclic', tol=0.0001,\n",
       "                                              warm_start=False))],\n",
       "                                verbose=False),\n",
       "             iid='deprecated', n_jobs=None,\n",
       "             param_grid={'lasso__alpha': [1e-15, 1e-10, 1e-08, 0.001, 0.01, 1,\n",
       "                                          5, 10, 20, 30, 35, 40]},\n",
       "             pre_dispatch='2*n_jobs', refit=True, return_train_score=False,\n",
       "             scoring='neg_mean_squared_error', verbose=0)"
      ]
     },
     "execution_count": 27,
     "metadata": {},
     "output_type": "execute_result"
    },
    {
     "data": {
      "application/javascript": [
       "\n",
       "            setTimeout(function() {\n",
       "                var nbb_cell_id = 27;\n",
       "                var nbb_unformatted_code = \"import warnings\\n\\nwarnings.filterwarnings(\\\"ignore\\\")\\nwarnings.simplefilter(\\\"ignore\\\")\\n\\n# building lasso pipeline\\nlasso_pipe = make_pipeline(StandardScaler(), Lasso())\\n\\nparameters = {\\n    \\\"lasso__alpha\\\": [1e-15, 1e-10, 1e-8, 1e-3, 1e-2, 1, 5, 10, 20, 30, 35, 40]\\n}\\n\\nlasso_regressor = GridSearchCV(\\n    lasso_pipe, parameters, scoring=\\\"neg_mean_squared_error\\\", cv=5\\n)\\n\\nlasso_regressor.fit(X_train, y_train)\";\n",
       "                var nbb_formatted_code = \"import warnings\\n\\nwarnings.filterwarnings(\\\"ignore\\\")\\nwarnings.simplefilter(\\\"ignore\\\")\\n\\n# building lasso pipeline\\nlasso_pipe = make_pipeline(StandardScaler(), Lasso())\\n\\nparameters = {\\n    \\\"lasso__alpha\\\": [1e-15, 1e-10, 1e-8, 1e-3, 1e-2, 1, 5, 10, 20, 30, 35, 40]\\n}\\n\\nlasso_regressor = GridSearchCV(\\n    lasso_pipe, parameters, scoring=\\\"neg_mean_squared_error\\\", cv=5\\n)\\n\\nlasso_regressor.fit(X_train, y_train)\";\n",
       "                var nbb_cells = Jupyter.notebook.get_cells();\n",
       "                for (var i = 0; i < nbb_cells.length; ++i) {\n",
       "                    if (nbb_cells[i].input_prompt_number == nbb_cell_id) {\n",
       "                        if (nbb_cells[i].get_text() == nbb_unformatted_code) {\n",
       "                             nbb_cells[i].set_text(nbb_formatted_code);\n",
       "                        }\n",
       "                        break;\n",
       "                    }\n",
       "                }\n",
       "            }, 500);\n",
       "            "
      ],
      "text/plain": [
       "<IPython.core.display.Javascript object>"
      ]
     },
     "metadata": {},
     "output_type": "display_data"
    }
   ],
   "source": [
    "import warnings\n",
    "\n",
    "warnings.filterwarnings(\"ignore\")\n",
    "warnings.simplefilter(\"ignore\")\n",
    "\n",
    "# building lasso pipeline\n",
    "lasso_pipe = make_pipeline(StandardScaler(), Lasso())\n",
    "\n",
    "parameters = {\n",
    "    \"lasso__alpha\": [1e-15, 1e-10, 1e-8, 1e-3, 1e-2, 1, 5, 10, 20, 30, 35, 40]\n",
    "}\n",
    "\n",
    "lasso_regressor = GridSearchCV(\n",
    "    lasso_pipe, parameters, scoring=\"neg_mean_squared_error\", cv=5\n",
    ")\n",
    "\n",
    "lasso_regressor.fit(X_train, y_train)"
   ]
  },
  {
   "cell_type": "code",
   "execution_count": 28,
   "metadata": {},
   "outputs": [
    {
     "name": "stdout",
     "output_type": "stream",
     "text": [
      "{'lasso__alpha': 0.001}\n",
      "-0.009616628242632945\n"
     ]
    },
    {
     "data": {
      "application/javascript": [
       "\n",
       "            setTimeout(function() {\n",
       "                var nbb_cell_id = 28;\n",
       "                var nbb_unformatted_code = \"print(lasso_regressor.best_params_)\\nprint(lasso_regressor.best_score_)\\nprediction_lasso = lasso_regressor.predict(X_test)\";\n",
       "                var nbb_formatted_code = \"print(lasso_regressor.best_params_)\\nprint(lasso_regressor.best_score_)\\nprediction_lasso = lasso_regressor.predict(X_test)\";\n",
       "                var nbb_cells = Jupyter.notebook.get_cells();\n",
       "                for (var i = 0; i < nbb_cells.length; ++i) {\n",
       "                    if (nbb_cells[i].input_prompt_number == nbb_cell_id) {\n",
       "                        if (nbb_cells[i].get_text() == nbb_unformatted_code) {\n",
       "                             nbb_cells[i].set_text(nbb_formatted_code);\n",
       "                        }\n",
       "                        break;\n",
       "                    }\n",
       "                }\n",
       "            }, 500);\n",
       "            "
      ],
      "text/plain": [
       "<IPython.core.display.Javascript object>"
      ]
     },
     "metadata": {},
     "output_type": "display_data"
    }
   ],
   "source": [
    "print(lasso_regressor.best_params_)\n",
    "print(lasso_regressor.best_score_)\n",
    "prediction_lasso = lasso_regressor.predict(X_test)"
   ]
  },
  {
   "cell_type": "code",
   "execution_count": 29,
   "metadata": {},
   "outputs": [
    {
     "data": {
      "image/png": "[encoded data removed]",
      "text/plain": [
       "<Figure size 432x288 with 1 Axes>"
      ]
     },
     "metadata": {},
     "output_type": "display_data"
    },
    {
     "data": {
      "application/javascript": [
       "\n",
       "            setTimeout(function() {\n",
       "                var nbb_cell_id = 29;\n",
       "                var nbb_unformatted_code = \"# Lasso Residual Plot\\nplt.scatter(prediction_lasso, y_test - prediction_lasso)\\nplt.xlabel(\\\"Predicted Values\\\")\\nplt.ylabel(\\\"Residuals\\\")\\nplt.show()\";\n",
       "                var nbb_formatted_code = \"# Lasso Residual Plot\\nplt.scatter(prediction_lasso, y_test - prediction_lasso)\\nplt.xlabel(\\\"Predicted Values\\\")\\nplt.ylabel(\\\"Residuals\\\")\\nplt.show()\";\n",
       "                var nbb_cells = Jupyter.notebook.get_cells();\n",
       "                for (var i = 0; i < nbb_cells.length; ++i) {\n",
       "                    if (nbb_cells[i].input_prompt_number == nbb_cell_id) {\n",
       "                        if (nbb_cells[i].get_text() == nbb_unformatted_code) {\n",
       "                             nbb_cells[i].set_text(nbb_formatted_code);\n",
       "                        }\n",
       "                        break;\n",
       "                    }\n",
       "                }\n",
       "            }, 500);\n",
       "            "
      ],
      "text/plain": [
       "<IPython.core.display.Javascript object>"
      ]
     },
     "metadata": {},
     "output_type": "display_data"
    }
   ],
   "source": [
    "# Lasso Residual Plot\n",
    "plt.scatter(prediction_lasso, y_test - prediction_lasso)\n",
    "plt.xlabel(\"Predicted Values\")\n",
    "plt.ylabel(\"Residuals\")\n",
    "plt.show()"
   ]
  },
  {
   "cell_type": "code",
   "execution_count": 30,
   "metadata": {},
   "outputs": [
    {
     "data": {
      "image/png": "[encoded data removed]",
      "text/plain": [
       "<Figure size 576x288 with 1 Axes>"
      ]
     },
     "metadata": {},
     "output_type": "display_data"
    },
    {
     "data": {
      "application/javascript": [
       "\n",
       "            setTimeout(function() {\n",
       "                var nbb_cell_id = 30;\n",
       "                var nbb_unformatted_code = \"# Lasso Normal Q-Q plot\\nsns.set(style=\\\"whitegrid\\\")\\n\\nplt.figure(figsize=(8, 4))\\nstats.probplot(y_test - prediction_lasso, dist=\\\"norm\\\", plot=plt)\\nplt.title(\\\"Normal Q-Q plot\\\")\\nplt.show()\";\n",
       "                var nbb_formatted_code = \"# Lasso Normal Q-Q plot\\nsns.set(style=\\\"whitegrid\\\")\\n\\nplt.figure(figsize=(8, 4))\\nstats.probplot(y_test - prediction_lasso, dist=\\\"norm\\\", plot=plt)\\nplt.title(\\\"Normal Q-Q plot\\\")\\nplt.show()\";\n",
       "                var nbb_cells = Jupyter.notebook.get_cells();\n",
       "                for (var i = 0; i < nbb_cells.length; ++i) {\n",
       "                    if (nbb_cells[i].input_prompt_number == nbb_cell_id) {\n",
       "                        if (nbb_cells[i].get_text() == nbb_unformatted_code) {\n",
       "                             nbb_cells[i].set_text(nbb_formatted_code);\n",
       "                        }\n",
       "                        break;\n",
       "                    }\n",
       "                }\n",
       "            }, 500);\n",
       "            "
      ],
      "text/plain": [
       "<IPython.core.display.Javascript object>"
      ]
     },
     "metadata": {},
     "output_type": "display_data"
    }
   ],
   "source": [
    "# Lasso Normal Q-Q plot\n",
    "sns.set(style=\"whitegrid\")\n",
    "\n",
    "plt.figure(figsize=(8, 4))\n",
    "stats.probplot(y_test - prediction_lasso, dist=\"norm\", plot=plt)\n",
    "plt.title(\"Normal Q-Q plot\")\n",
    "plt.show()"
   ]
  },
  {
   "cell_type": "code",
   "execution_count": 31,
   "metadata": {},
   "outputs": [
    {
     "data": {
      "text/plain": [
       "<matplotlib.axes._subplots.AxesSubplot at 0x2338afb3948>"
      ]
     },
     "execution_count": 31,
     "metadata": {},
     "output_type": "execute_result"
    },
    {
     "data": {
      "image/png": "[encoded data removed]",
      "text/plain": [
       "<Figure size 432x288 with 1 Axes>"
      ]
     },
     "metadata": {},
     "output_type": "display_data"
    },
    {
     "data": {
      "application/javascript": [
       "\n",
       "            setTimeout(function() {\n",
       "                var nbb_cell_id = 31;\n",
       "                var nbb_unformatted_code = \"# distplot\\nsns.distplot(y_test - prediction_lasso)\";\n",
       "                var nbb_formatted_code = \"# distplot\\nsns.distplot(y_test - prediction_lasso)\";\n",
       "                var nbb_cells = Jupyter.notebook.get_cells();\n",
       "                for (var i = 0; i < nbb_cells.length; ++i) {\n",
       "                    if (nbb_cells[i].input_prompt_number == nbb_cell_id) {\n",
       "                        if (nbb_cells[i].get_text() == nbb_unformatted_code) {\n",
       "                             nbb_cells[i].set_text(nbb_formatted_code);\n",
       "                        }\n",
       "                        break;\n",
       "                    }\n",
       "                }\n",
       "            }, 500);\n",
       "            "
      ],
      "text/plain": [
       "<IPython.core.display.Javascript object>"
      ]
     },
     "metadata": {},
     "output_type": "display_data"
    }
   ],
   "source": [
    "# distplot\n",
    "sns.distplot(y_test - prediction_lasso)"
   ]
  },
  {
   "cell_type": "code",
   "execution_count": 32,
   "metadata": {},
   "outputs": [
    {
     "name": "stdout",
     "output_type": "stream",
     "text": [
      "Lasso Test MSE: 0.00939718180990728\n",
      "\n",
      "Lasso Test Accuracy (R-Squared): 0.9929270802555725\n",
      "\n",
      "Lasso Cross Validation Score: 0.009857483870101994\n"
     ]
    },
    {
     "data": {
      "application/javascript": [
       "\n",
       "            setTimeout(function() {\n",
       "                var nbb_cell_id = 32;\n",
       "                var nbb_unformatted_code = \"# MSE for test data\\nprint(\\\"Lasso Test MSE:\\\", mean_squared_error(y_test, prediction_lasso))\\n\\n# R2 for test data\\nprint(\\n    \\\"\\\\nLasso Test Accuracy (R-Squared):\\\", r2_score(y_test, prediction_lasso),\\n)\\n\\n# cross validation score\\ncv_score = np.mean(\\n    (cross_val_score(lasso_regressor, X, y, cv=5, scoring=\\\"neg_mean_squared_error\\\"))\\n    * -1\\n)\\nprint(\\\"\\\\nLasso Cross Validation Score:\\\", cv_score)\";\n",
       "                var nbb_formatted_code = \"# MSE for test data\\nprint(\\\"Lasso Test MSE:\\\", mean_squared_error(y_test, prediction_lasso))\\n\\n# R2 for test data\\nprint(\\n    \\\"\\\\nLasso Test Accuracy (R-Squared):\\\", r2_score(y_test, prediction_lasso),\\n)\\n\\n# cross validation score\\ncv_score = np.mean(\\n    (cross_val_score(lasso_regressor, X, y, cv=5, scoring=\\\"neg_mean_squared_error\\\"))\\n    * -1\\n)\\nprint(\\\"\\\\nLasso Cross Validation Score:\\\", cv_score)\";\n",
       "                var nbb_cells = Jupyter.notebook.get_cells();\n",
       "                for (var i = 0; i < nbb_cells.length; ++i) {\n",
       "                    if (nbb_cells[i].input_prompt_number == nbb_cell_id) {\n",
       "                        if (nbb_cells[i].get_text() == nbb_unformatted_code) {\n",
       "                             nbb_cells[i].set_text(nbb_formatted_code);\n",
       "                        }\n",
       "                        break;\n",
       "                    }\n",
       "                }\n",
       "            }, 500);\n",
       "            "
      ],
      "text/plain": [
       "<IPython.core.display.Javascript object>"
      ]
     },
     "metadata": {},
     "output_type": "display_data"
    }
   ],
   "source": [
    "# MSE for test data\n",
    "print(\"Lasso Test MSE:\", mean_squared_error(y_test, prediction_lasso))\n",
    "\n",
    "# R2 for test data\n",
    "print(\n",
    "    \"\\nLasso Test Accuracy (R-Squared):\", r2_score(y_test, prediction_lasso),\n",
    ")\n",
    "\n",
    "# cross validation score\n",
    "cv_score = np.mean(\n",
    "    (cross_val_score(lasso_regressor, X, y, cv=5, scoring=\"neg_mean_squared_error\"))\n",
    "    * -1\n",
    ")\n",
    "print(\"\\nLasso Cross Validation Score:\", cv_score)"
   ]
  },
  {
   "cell_type": "markdown",
   "metadata": {},
   "source": [
    "### Random Forest"
   ]
  },
  {
   "cell_type": "code",
   "execution_count": 33,
   "metadata": {},
   "outputs": [
    {
     "data": {
      "application/javascript": [
       "\n",
       "            setTimeout(function() {\n",
       "                var nbb_cell_id = 33;\n",
       "                var nbb_unformatted_code = \"rf = RandomForestRegressor(n_estimators=100)\\n\\n# fitting the data\\nrf.fit(X_train, y_train)\\n\\n# predicting\\nrf_predictions = rf.predict(X_test)\";\n",
       "                var nbb_formatted_code = \"rf = RandomForestRegressor(n_estimators=100)\\n\\n# fitting the data\\nrf.fit(X_train, y_train)\\n\\n# predicting\\nrf_predictions = rf.predict(X_test)\";\n",
       "                var nbb_cells = Jupyter.notebook.get_cells();\n",
       "                for (var i = 0; i < nbb_cells.length; ++i) {\n",
       "                    if (nbb_cells[i].input_prompt_number == nbb_cell_id) {\n",
       "                        if (nbb_cells[i].get_text() == nbb_unformatted_code) {\n",
       "                             nbb_cells[i].set_text(nbb_formatted_code);\n",
       "                        }\n",
       "                        break;\n",
       "                    }\n",
       "                }\n",
       "            }, 500);\n",
       "            "
      ],
      "text/plain": [
       "<IPython.core.display.Javascript object>"
      ]
     },
     "metadata": {},
     "output_type": "display_data"
    }
   ],
   "source": [
    "rf = RandomForestRegressor(n_estimators=100)\n",
    "\n",
    "# fitting the data\n",
    "rf.fit(X_train, y_train)\n",
    "\n",
    "# predicting\n",
    "rf_predictions = rf.predict(X_test)"
   ]
  },
  {
   "cell_type": "code",
   "execution_count": 34,
   "metadata": {},
   "outputs": [
    {
     "data": {
      "image/png": "[encoded data removed]",
      "text/plain": [
       "<Figure size 432x288 with 1 Axes>"
      ]
     },
     "metadata": {},
     "output_type": "display_data"
    },
    {
     "data": {
      "application/javascript": [
       "\n",
       "            setTimeout(function() {\n",
       "                var nbb_cell_id = 34;\n",
       "                var nbb_unformatted_code = \"# Random Forest Residual Plot\\nplt.scatter(rf_predictions, y_test - rf_predictions)\\nplt.xlabel(\\\"Predicted Values\\\")\\nplt.ylabel(\\\"Residuals\\\")\\nplt.show()\";\n",
       "                var nbb_formatted_code = \"# Random Forest Residual Plot\\nplt.scatter(rf_predictions, y_test - rf_predictions)\\nplt.xlabel(\\\"Predicted Values\\\")\\nplt.ylabel(\\\"Residuals\\\")\\nplt.show()\";\n",
       "                var nbb_cells = Jupyter.notebook.get_cells();\n",
       "                for (var i = 0; i < nbb_cells.length; ++i) {\n",
       "                    if (nbb_cells[i].input_prompt_number == nbb_cell_id) {\n",
       "                        if (nbb_cells[i].get_text() == nbb_unformatted_code) {\n",
       "                             nbb_cells[i].set_text(nbb_formatted_code);\n",
       "                        }\n",
       "                        break;\n",
       "                    }\n",
       "                }\n",
       "            }, 500);\n",
       "            "
      ],
      "text/plain": [
       "<IPython.core.display.Javascript object>"
      ]
     },
     "metadata": {},
     "output_type": "display_data"
    }
   ],
   "source": [
    "# Random Forest Residual Plot\n",
    "plt.scatter(rf_predictions, y_test - rf_predictions)\n",
    "plt.xlabel(\"Predicted Values\")\n",
    "plt.ylabel(\"Residuals\")\n",
    "plt.show()"
   ]
  },
  {
   "cell_type": "code",
   "execution_count": 35,
   "metadata": {},
   "outputs": [
    {
     "data": {
      "image/png": "[encoded data removed]",
      "text/plain": [
       "<Figure size 576x288 with 1 Axes>"
      ]
     },
     "metadata": {},
     "output_type": "display_data"
    },
    {
     "data": {
      "application/javascript": [
       "\n",
       "            setTimeout(function() {\n",
       "                var nbb_cell_id = 35;\n",
       "                var nbb_unformatted_code = \"# Random Forest Normal Q-Q plot\\nsns.set(style=\\\"whitegrid\\\")\\n\\nplt.figure(figsize=(8, 4))\\nstats.probplot(y_test - rf_predictions, dist=\\\"norm\\\", plot=plt)\\nplt.title(\\\"Normal Q-Q plot\\\")\\nplt.show()\";\n",
       "                var nbb_formatted_code = \"# Random Forest Normal Q-Q plot\\nsns.set(style=\\\"whitegrid\\\")\\n\\nplt.figure(figsize=(8, 4))\\nstats.probplot(y_test - rf_predictions, dist=\\\"norm\\\", plot=plt)\\nplt.title(\\\"Normal Q-Q plot\\\")\\nplt.show()\";\n",
       "                var nbb_cells = Jupyter.notebook.get_cells();\n",
       "                for (var i = 0; i < nbb_cells.length; ++i) {\n",
       "                    if (nbb_cells[i].input_prompt_number == nbb_cell_id) {\n",
       "                        if (nbb_cells[i].get_text() == nbb_unformatted_code) {\n",
       "                             nbb_cells[i].set_text(nbb_formatted_code);\n",
       "                        }\n",
       "                        break;\n",
       "                    }\n",
       "                }\n",
       "            }, 500);\n",
       "            "
      ],
      "text/plain": [
       "<IPython.core.display.Javascript object>"
      ]
     },
     "metadata": {},
     "output_type": "display_data"
    }
   ],
   "source": [
    "# Random Forest Normal Q-Q plot\n",
    "sns.set(style=\"whitegrid\")\n",
    "\n",
    "plt.figure(figsize=(8, 4))\n",
    "stats.probplot(y_test - rf_predictions, dist=\"norm\", plot=plt)\n",
    "plt.title(\"Normal Q-Q plot\")\n",
    "plt.show()"
   ]
  },
  {
   "cell_type": "code",
   "execution_count": 36,
   "metadata": {},
   "outputs": [
    {
     "name": "stdout",
     "output_type": "stream",
     "text": [
      "Random Forest Test MSE: 0.025617448824574368\n",
      "Random Forest Test Accuracy: 0.9807186704207248\n",
      "Random Forest Cross Validation Score: 0.024767059770408398\n"
     ]
    },
    {
     "data": {
      "application/javascript": [
       "\n",
       "            setTimeout(function() {\n",
       "                var nbb_cell_id = 36;\n",
       "                var nbb_unformatted_code = \"# test MSE\\nprint(f\\\"Random Forest Test MSE: {mean_squared_error(y_test, rf_predictions)}\\\")\\n\\n# test R2\\nprint(f\\\"Random Forest Test Accuracy: {rf.score(X_test, y_test)}\\\")\\n\\n# cross validation score\\ncv_score = np.mean(\\n    (cross_val_score(rf, X, y, cv=5, scoring=\\\"neg_mean_squared_error\\\")) * -1\\n)\\nprint(f\\\"Random Forest Cross Validation Score: {cv_score}\\\")\";\n",
       "                var nbb_formatted_code = \"# test MSE\\nprint(f\\\"Random Forest Test MSE: {mean_squared_error(y_test, rf_predictions)}\\\")\\n\\n# test R2\\nprint(f\\\"Random Forest Test Accuracy: {rf.score(X_test, y_test)}\\\")\\n\\n# cross validation score\\ncv_score = np.mean(\\n    (cross_val_score(rf, X, y, cv=5, scoring=\\\"neg_mean_squared_error\\\")) * -1\\n)\\nprint(f\\\"Random Forest Cross Validation Score: {cv_score}\\\")\";\n",
       "                var nbb_cells = Jupyter.notebook.get_cells();\n",
       "                for (var i = 0; i < nbb_cells.length; ++i) {\n",
       "                    if (nbb_cells[i].input_prompt_number == nbb_cell_id) {\n",
       "                        if (nbb_cells[i].get_text() == nbb_unformatted_code) {\n",
       "                             nbb_cells[i].set_text(nbb_formatted_code);\n",
       "                        }\n",
       "                        break;\n",
       "                    }\n",
       "                }\n",
       "            }, 500);\n",
       "            "
      ],
      "text/plain": [
       "<IPython.core.display.Javascript object>"
      ]
     },
     "metadata": {},
     "output_type": "display_data"
    }
   ],
   "source": [
    "# test MSE\n",
    "print(f\"Random Forest Test MSE: {mean_squared_error(y_test, rf_predictions)}\")\n",
    "\n",
    "# test R2\n",
    "print(f\"Random Forest Test Accuracy: {rf.score(X_test, y_test)}\")\n",
    "\n",
    "# cross validation score\n",
    "cv_score = np.mean(\n",
    "    (cross_val_score(rf, X, y, cv=5, scoring=\"neg_mean_squared_error\")) * -1\n",
    ")\n",
    "print(f\"Random Forest Cross Validation Score: {cv_score}\")"
   ]
  },
  {
   "cell_type": "markdown",
   "metadata": {},
   "source": [
    "Random Forest didn't do very well for this dataset as compared to the Linear and Lasso Models. "
   ]
  },
  {
   "cell_type": "markdown",
   "metadata": {},
   "source": [
    "### Selecting Lasso as the final model for this dataset as it gave the lowest CV MSE.  "
   ]
  },
  {
   "cell_type": "code",
   "execution_count": 37,
   "metadata": {},
   "outputs": [
    {
     "data": {
      "text/plain": [
       "GridSearchCV(cv=5, error_score=nan,\n",
       "             estimator=Pipeline(memory=None,\n",
       "                                steps=[('standardscaler',\n",
       "                                        StandardScaler(copy=True,\n",
       "                                                       with_mean=True,\n",
       "                                                       with_std=True)),\n",
       "                                       ('lasso',\n",
       "                                        Lasso(alpha=1.0, copy_X=True,\n",
       "                                              fit_intercept=True, max_iter=1000,\n",
       "                                              normalize=False, positive=False,\n",
       "                                              precompute=False,\n",
       "                                              random_state=None,\n",
       "                                              selection='cyclic', tol=0.0001,\n",
       "                                              warm_start=False))],\n",
       "                                verbose=False),\n",
       "             iid='deprecated', n_jobs=None,\n",
       "             param_grid={'lasso__alpha': [0.001]}, pre_dispatch='2*n_jobs',\n",
       "             refit=True, return_train_score=False,\n",
       "             scoring='neg_mean_squared_error', verbose=0)"
      ]
     },
     "execution_count": 37,
     "metadata": {},
     "output_type": "execute_result"
    },
    {
     "data": {
      "application/javascript": [
       "\n",
       "            setTimeout(function() {\n",
       "                var nbb_cell_id = 37;\n",
       "                var nbb_unformatted_code = \"# retraining the Lasso Model with best paramater value and entire dataset\\n\\n# building lasso pipeline\\nlasso_pipe = make_pipeline(StandardScaler(), Lasso())\\n\\nparameters = {\\\"lasso__alpha\\\": [0.001]}\\n\\nlasso_regressor = GridSearchCV(\\n    lasso_pipe, parameters, scoring=\\\"neg_mean_squared_error\\\", cv=5\\n)\\n\\nlasso_regressor.fit(X, y)\";\n",
       "                var nbb_formatted_code = \"# retraining the Lasso Model with best paramater value and entire dataset\\n\\n# building lasso pipeline\\nlasso_pipe = make_pipeline(StandardScaler(), Lasso())\\n\\nparameters = {\\\"lasso__alpha\\\": [0.001]}\\n\\nlasso_regressor = GridSearchCV(\\n    lasso_pipe, parameters, scoring=\\\"neg_mean_squared_error\\\", cv=5\\n)\\n\\nlasso_regressor.fit(X, y)\";\n",
       "                var nbb_cells = Jupyter.notebook.get_cells();\n",
       "                for (var i = 0; i < nbb_cells.length; ++i) {\n",
       "                    if (nbb_cells[i].input_prompt_number == nbb_cell_id) {\n",
       "                        if (nbb_cells[i].get_text() == nbb_unformatted_code) {\n",
       "                             nbb_cells[i].set_text(nbb_formatted_code);\n",
       "                        }\n",
       "                        break;\n",
       "                    }\n",
       "                }\n",
       "            }, 500);\n",
       "            "
      ],
      "text/plain": [
       "<IPython.core.display.Javascript object>"
      ]
     },
     "metadata": {},
     "output_type": "display_data"
    }
   ],
   "source": [
    "# retraining the Lasso Model with best paramater value and entire dataset\n",
    "\n",
    "# building lasso pipeline\n",
    "lasso_pipe = make_pipeline(StandardScaler(), Lasso())\n",
    "\n",
    "parameters = {\"lasso__alpha\": [0.001]}\n",
    "\n",
    "lasso_regressor = GridSearchCV(\n",
    "    lasso_pipe, parameters, scoring=\"neg_mean_squared_error\", cv=5\n",
    ")\n",
    "\n",
    "lasso_regressor.fit(X, y)"
   ]
  },
  {
   "cell_type": "code",
   "execution_count": 38,
   "metadata": {},
   "outputs": [
    {
     "name": "stdout",
     "output_type": "stream",
     "text": [
      "Lasso Test MSE: 0.00939718180990728\n",
      "Lasso Test Accuracy (R-Squared): 0.9929270802555725\n",
      "Lasso Cross Validation Score: 0.009799837614077551\n"
     ]
    },
    {
     "data": {
      "application/javascript": [
       "\n",
       "            setTimeout(function() {\n",
       "                var nbb_cell_id = 38;\n",
       "                var nbb_unformatted_code = \"# MSE for test data\\nprint(\\\"Lasso Test MSE:\\\", mean_squared_error(y_test, prediction_lasso))\\n\\n# R2 for test data\\nprint(\\n    \\\"Lasso Test Accuracy (R-Squared):\\\", r2_score(y_test, prediction_lasso),\\n)\\n\\n# cross validation score\\ncv_score = np.mean(\\n    (cross_val_score(lasso_regressor, X, y, cv=5, scoring=\\\"neg_mean_squared_error\\\"))\\n    * -1\\n)\\nprint(\\\"Lasso Cross Validation Score:\\\", cv_score)\";\n",
       "                var nbb_formatted_code = \"# MSE for test data\\nprint(\\\"Lasso Test MSE:\\\", mean_squared_error(y_test, prediction_lasso))\\n\\n# R2 for test data\\nprint(\\n    \\\"Lasso Test Accuracy (R-Squared):\\\", r2_score(y_test, prediction_lasso),\\n)\\n\\n# cross validation score\\ncv_score = np.mean(\\n    (cross_val_score(lasso_regressor, X, y, cv=5, scoring=\\\"neg_mean_squared_error\\\"))\\n    * -1\\n)\\nprint(\\\"Lasso Cross Validation Score:\\\", cv_score)\";\n",
       "                var nbb_cells = Jupyter.notebook.get_cells();\n",
       "                for (var i = 0; i < nbb_cells.length; ++i) {\n",
       "                    if (nbb_cells[i].input_prompt_number == nbb_cell_id) {\n",
       "                        if (nbb_cells[i].get_text() == nbb_unformatted_code) {\n",
       "                             nbb_cells[i].set_text(nbb_formatted_code);\n",
       "                        }\n",
       "                        break;\n",
       "                    }\n",
       "                }\n",
       "            }, 500);\n",
       "            "
      ],
      "text/plain": [
       "<IPython.core.display.Javascript object>"
      ]
     },
     "metadata": {},
     "output_type": "display_data"
    }
   ],
   "source": [
    "# MSE for test data\n",
    "print(\"Lasso Test MSE:\", mean_squared_error(y_test, prediction_lasso))\n",
    "\n",
    "# R2 for test data\n",
    "print(\n",
    "    \"Lasso Test Accuracy (R-Squared):\", r2_score(y_test, prediction_lasso),\n",
    ")\n",
    "\n",
    "# cross validation score\n",
    "cv_score = np.mean(\n",
    "    (cross_val_score(lasso_regressor, X, y, cv=5, scoring=\"neg_mean_squared_error\"))\n",
    "    * -1\n",
    ")\n",
    "print(\"Lasso Cross Validation Score:\", cv_score)"
   ]
  },
  {
   "cell_type": "markdown",
   "metadata": {},
   "source": [
    "### Saving the final model"
   ]
  },
  {
   "cell_type": "code",
   "execution_count": 39,
   "metadata": {},
   "outputs": [
    {
     "data": {
      "text/plain": [
       "['reg.joblib']"
      ]
     },
     "execution_count": 39,
     "metadata": {},
     "output_type": "execute_result"
    },
    {
     "data": {
      "application/javascript": [
       "\n",
       "            setTimeout(function() {\n",
       "                var nbb_cell_id = 39;\n",
       "                var nbb_unformatted_code = \"dump(lasso_regressor, \\\"reg.joblib\\\")\";\n",
       "                var nbb_formatted_code = \"dump(lasso_regressor, \\\"reg.joblib\\\")\";\n",
       "                var nbb_cells = Jupyter.notebook.get_cells();\n",
       "                for (var i = 0; i < nbb_cells.length; ++i) {\n",
       "                    if (nbb_cells[i].input_prompt_number == nbb_cell_id) {\n",
       "                        if (nbb_cells[i].get_text() == nbb_unformatted_code) {\n",
       "                             nbb_cells[i].set_text(nbb_formatted_code);\n",
       "                        }\n",
       "                        break;\n",
       "                    }\n",
       "                }\n",
       "            }, 500);\n",
       "            "
      ],
      "text/plain": [
       "<IPython.core.display.Javascript object>"
      ]
     },
     "metadata": {},
     "output_type": "display_data"
    }
   ],
   "source": [
    "dump(lasso_regressor, \"reg.joblib\")"
   ]
  }
 ],
 "metadata": {
  "kernelspec": {
   "display_name": "fish",
   "language": "python",
   "name": "fish"
  },
  "language_info": {
   "codemirror_mode": {
    "name": "ipython",
    "version": 3
   },
   "file_extension": ".py",
   "mimetype": "text/x-python",
   "name": "python",
   "nbconvert_exporter": "python",
   "pygments_lexer": "ipython3",
   "version": "3.7.5"
  }
 },
 "nbformat": 4,
 "nbformat_minor": 2
}
